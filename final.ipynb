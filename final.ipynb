{
  "cells": [
    {
      "cell_type": "markdown",
      "id": "baf4f998",
      "metadata": {
        "id": "baf4f998"
      },
      "source": [
        "# Выпускной проект. Промышленность.\n",
        "\n",
        "Чтобы оптимизировать производственные расходы, металлургический комбинат решил уменьшить потребление электроэнергии на этапе обработки стали.\n",
        "\n",
        "ЗАДАЧА: создать модель, которая предскажет температуру стали. (MAE < 6)"
      ]
    },
    {
      "cell_type": "markdown",
      "id": "7471fa64",
      "metadata": {
        "id": "7471fa64"
      },
      "source": [
        "ЭТАПЫ ОБРАБОТКИ СТАЛИ:\n",
        "\n",
        "1. Расплавленную сталь заливают в ковш и подогревают до нужной температуры графитовыми электродами. data_arc.csv.\n",
        "\n",
        "2. Из сплава выводится сера (десульфарация), добавлением примесей корректируется химический состав и отбираются пробы. Сталь легируют — изменяют ее состав — подавая куски сплава из бункера для сыпучих материалов или проволоку через специальный трайб-аппарат. data_bulk.csv, data_bulk_time.csv.\n",
        "\n",
        "3. Перед тем как первый раз ввести легирующие добавки, измеряют температуру стали и проводят ее химический анализ. Потом на несколько минут температуру повышают, добавляют легирующие материалы и продувают сплав инертным газом. Затем его перемешивают и снова проводя измерения. Такой цикл повторяется до достижения целевого химического состава и оптимальной температуры плавки. data_temp.csv, data_gas.csv\n",
        "\n",
        "4. Расплавленная сталь отправляется на доводку металла или поступает в машину непрерывной разливки. Оттуда готовый продукт выходит в виде заготовок-слябов. data_wire.csv, data_wire_time.csv\n",
        "\n",
        "ОПИСАНИЕ ДАННЫХ\n",
        "\n",
        "Данные состоят из файлов, полученных из разных источников:\n",
        "\n",
        "- `data_arc.csv` — данные об электродах;\n",
        "- `data_bulk.csv` — данные о подаче сыпучих материалов (объём);\n",
        "- `data_bulk_time.csv` — данные о подаче сыпучих материалов (время);\n",
        "- `data_gas.csv` — данные о продувке сплава газом;\n",
        "- `data_temp.csv` — результаты измерения температуры;\n",
        "- `data_wire.csv` — данные о проволочных материалах (объём);\n",
        "- `data_wire_time.csv` — данные о проволочных материалах (время)."
      ]
    },
    {
      "cell_type": "markdown",
      "id": "d8f18190",
      "metadata": {
        "id": "d8f18190"
      },
      "source": [
        "   # ПЛАН\n",
        "1. Знакомство с задачей: что нужно сделать, какие этапы в процессе обработки существуют.\n",
        "2. Импорт библиотек.\n",
        "3. Знакомство с данными: какие есть таблицы, столбцы, что нам понадобится (ячейки 2-16).\n",
        "4. Предварительная обработка: пропуски, выбросы. Объединение всех нужных сведений в одну таблицу (ячейки 17-60).\n",
        "5. Обучение и кросс-валидация моделей (ячейки 61-64).\n",
        "6. Визуализация результатов (ячейки 65-69)."
      ]
    },
    {
      "cell_type": "code",
      "execution_count": null,
      "id": "d5c472a6",
      "metadata": {
        "id": "d5c472a6"
      },
      "outputs": [],
      "source": [
        "#импортируем библиотеки\n",
        "import pandas as pd\n",
        "import matplotlib.pyplot as plt\n",
        "import seaborn as sns\n",
        "import numpy as np\n",
        "from sklearn.model_selection import train_test_split, cross_val_predict, cross_val_score\n",
        "from sklearn.linear_model import LinearRegression\n",
        "from sklearn.metrics import mean_absolute_error\n",
        "from sklearn.tree import DecisionTreeRegressor\n",
        "from sklearn.ensemble import RandomForestRegressor, GradientBoostingRegressor\n",
        "from sklearn.preprocessing import StandardScaler\n",
        "import lightgbm as lgbm\n",
        "import xgboost as xg\n",
        "from catboost import CatBoostRegressor\n",
        "from sklearn.inspection import permutation_importance\n",
        "import warnings\n",
        "warnings.simplefilter(\"ignore\", UserWarning)\n",
        "from pandas.core.common import SettingWithCopyWarning\n",
        "warnings.simplefilter(action=\"ignore\", category=SettingWithCopyWarning)"
      ]
    },
    {
      "cell_type": "code",
      "execution_count": null,
      "id": "13ccd91d",
      "metadata": {
        "id": "13ccd91d",
        "outputId": "f868bc0c-23e9-4ff7-d7fd-0a5a4ab5b6c5"
      },
      "outputs": [
        {
          "name": "stdout",
          "output_type": "stream",
          "text": [
            "<class 'pandas.core.frame.DataFrame'>\n",
            "RangeIndex: 14876 entries, 0 to 14875\n",
            "Data columns (total 5 columns):\n",
            " #   Column                Non-Null Count  Dtype  \n",
            "---  ------                --------------  -----  \n",
            " 0   key                   14876 non-null  int64  \n",
            " 1   Начало нагрева дугой  14876 non-null  object \n",
            " 2   Конец нагрева дугой   14876 non-null  object \n",
            " 3   Активная мощность     14876 non-null  float64\n",
            " 4   Реактивная мощность   14876 non-null  float64\n",
            "dtypes: float64(2), int64(1), object(2)\n",
            "memory usage: 581.2+ KB\n"
          ]
        }
      ],
      "source": [
        "data_arc.info()"
      ]
    },
    {
      "cell_type": "code",
      "execution_count": null,
      "id": "d7834474",
      "metadata": {
        "id": "d7834474",
        "outputId": "29348d68-8f96-411a-f269-38b4d011a410"
      },
      "outputs": [
        {
          "data": {
            "text/html": [
              "<div>\n",
              "<style scoped>\n",
              "    .dataframe tbody tr th:only-of-type {\n",
              "        vertical-align: middle;\n",
              "    }\n",
              "\n",
              "    .dataframe tbody tr th {\n",
              "        vertical-align: top;\n",
              "    }\n",
              "\n",
              "    .dataframe thead th {\n",
              "        text-align: right;\n",
              "    }\n",
              "</style>\n",
              "<table border=\"1\" class=\"dataframe\">\n",
              "  <thead>\n",
              "    <tr style=\"text-align: right;\">\n",
              "      <th></th>\n",
              "      <th>key</th>\n",
              "      <th>Начало нагрева дугой</th>\n",
              "      <th>Конец нагрева дугой</th>\n",
              "      <th>Активная мощность</th>\n",
              "      <th>Реактивная мощность</th>\n",
              "    </tr>\n",
              "  </thead>\n",
              "  <tbody>\n",
              "    <tr>\n",
              "      <th>0</th>\n",
              "      <td>1</td>\n",
              "      <td>2019-05-03 11:02:14</td>\n",
              "      <td>2019-05-03 11:06:02</td>\n",
              "      <td>0.976059</td>\n",
              "      <td>0.687084</td>\n",
              "    </tr>\n",
              "    <tr>\n",
              "      <th>1</th>\n",
              "      <td>1</td>\n",
              "      <td>2019-05-03 11:07:28</td>\n",
              "      <td>2019-05-03 11:10:33</td>\n",
              "      <td>0.805607</td>\n",
              "      <td>0.520285</td>\n",
              "    </tr>\n",
              "    <tr>\n",
              "      <th>2</th>\n",
              "      <td>1</td>\n",
              "      <td>2019-05-03 11:11:44</td>\n",
              "      <td>2019-05-03 11:14:36</td>\n",
              "      <td>0.744363</td>\n",
              "      <td>0.498805</td>\n",
              "    </tr>\n",
              "    <tr>\n",
              "      <th>3</th>\n",
              "      <td>1</td>\n",
              "      <td>2019-05-03 11:18:14</td>\n",
              "      <td>2019-05-03 11:24:19</td>\n",
              "      <td>1.659363</td>\n",
              "      <td>1.062669</td>\n",
              "    </tr>\n",
              "    <tr>\n",
              "      <th>4</th>\n",
              "      <td>1</td>\n",
              "      <td>2019-05-03 11:26:09</td>\n",
              "      <td>2019-05-03 11:28:37</td>\n",
              "      <td>0.692755</td>\n",
              "      <td>0.414397</td>\n",
              "    </tr>\n",
              "  </tbody>\n",
              "</table>\n",
              "</div>"
            ],
            "text/plain": [
              "   key Начало нагрева дугой  Конец нагрева дугой  Активная мощность  \\\n",
              "0    1  2019-05-03 11:02:14  2019-05-03 11:06:02           0.976059   \n",
              "1    1  2019-05-03 11:07:28  2019-05-03 11:10:33           0.805607   \n",
              "2    1  2019-05-03 11:11:44  2019-05-03 11:14:36           0.744363   \n",
              "3    1  2019-05-03 11:18:14  2019-05-03 11:24:19           1.659363   \n",
              "4    1  2019-05-03 11:26:09  2019-05-03 11:28:37           0.692755   \n",
              "\n",
              "   Реактивная мощность  \n",
              "0             0.687084  \n",
              "1             0.520285  \n",
              "2             0.498805  \n",
              "3             1.062669  \n",
              "4             0.414397  "
            ]
          },
          "metadata": {},
          "output_type": "display_data"
        }
      ],
      "source": [
        "display(data_arc.head())"
      ]
    },
    {
      "cell_type": "code",
      "execution_count": null,
      "id": "6cee9e13",
      "metadata": {
        "id": "6cee9e13",
        "outputId": "cfb0b328-1953-4c54-ed43-982a8ae97470"
      },
      "outputs": [
        {
          "name": "stdout",
          "output_type": "stream",
          "text": [
            "<class 'pandas.core.frame.DataFrame'>\n",
            "RangeIndex: 3129 entries, 0 to 3128\n",
            "Data columns (total 16 columns):\n",
            " #   Column   Non-Null Count  Dtype  \n",
            "---  ------   --------------  -----  \n",
            " 0   key      3129 non-null   int64  \n",
            " 1   Bulk 1   252 non-null    float64\n",
            " 2   Bulk 2   22 non-null     float64\n",
            " 3   Bulk 3   1298 non-null   float64\n",
            " 4   Bulk 4   1014 non-null   float64\n",
            " 5   Bulk 5   77 non-null     float64\n",
            " 6   Bulk 6   576 non-null    float64\n",
            " 7   Bulk 7   25 non-null     float64\n",
            " 8   Bulk 8   1 non-null      float64\n",
            " 9   Bulk 9   19 non-null     float64\n",
            " 10  Bulk 10  176 non-null    float64\n",
            " 11  Bulk 11  177 non-null    float64\n",
            " 12  Bulk 12  2450 non-null   float64\n",
            " 13  Bulk 13  18 non-null     float64\n",
            " 14  Bulk 14  2806 non-null   float64\n",
            " 15  Bulk 15  2248 non-null   float64\n",
            "dtypes: float64(15), int64(1)\n",
            "memory usage: 391.2 KB\n"
          ]
        }
      ],
      "source": [
        "data_bulk.info()"
      ]
    },
    {
      "cell_type": "code",
      "execution_count": null,
      "id": "5d5d2957",
      "metadata": {
        "id": "5d5d2957",
        "outputId": "6914cf20-5cd6-476b-e766-eedeb10cb388"
      },
      "outputs": [
        {
          "data": {
            "text/html": [
              "<div>\n",
              "<style scoped>\n",
              "    .dataframe tbody tr th:only-of-type {\n",
              "        vertical-align: middle;\n",
              "    }\n",
              "\n",
              "    .dataframe tbody tr th {\n",
              "        vertical-align: top;\n",
              "    }\n",
              "\n",
              "    .dataframe thead th {\n",
              "        text-align: right;\n",
              "    }\n",
              "</style>\n",
              "<table border=\"1\" class=\"dataframe\">\n",
              "  <thead>\n",
              "    <tr style=\"text-align: right;\">\n",
              "      <th></th>\n",
              "      <th>key</th>\n",
              "      <th>Bulk 1</th>\n",
              "      <th>Bulk 2</th>\n",
              "      <th>Bulk 3</th>\n",
              "      <th>Bulk 4</th>\n",
              "      <th>Bulk 5</th>\n",
              "      <th>Bulk 6</th>\n",
              "      <th>Bulk 7</th>\n",
              "      <th>Bulk 8</th>\n",
              "      <th>Bulk 9</th>\n",
              "      <th>Bulk 10</th>\n",
              "      <th>Bulk 11</th>\n",
              "      <th>Bulk 12</th>\n",
              "      <th>Bulk 13</th>\n",
              "      <th>Bulk 14</th>\n",
              "      <th>Bulk 15</th>\n",
              "    </tr>\n",
              "  </thead>\n",
              "  <tbody>\n",
              "    <tr>\n",
              "      <th>0</th>\n",
              "      <td>1</td>\n",
              "      <td>NaN</td>\n",
              "      <td>NaN</td>\n",
              "      <td>NaN</td>\n",
              "      <td>43.0</td>\n",
              "      <td>NaN</td>\n",
              "      <td>NaN</td>\n",
              "      <td>NaN</td>\n",
              "      <td>NaN</td>\n",
              "      <td>NaN</td>\n",
              "      <td>NaN</td>\n",
              "      <td>NaN</td>\n",
              "      <td>206.0</td>\n",
              "      <td>NaN</td>\n",
              "      <td>150.0</td>\n",
              "      <td>154.0</td>\n",
              "    </tr>\n",
              "    <tr>\n",
              "      <th>1</th>\n",
              "      <td>2</td>\n",
              "      <td>NaN</td>\n",
              "      <td>NaN</td>\n",
              "      <td>NaN</td>\n",
              "      <td>73.0</td>\n",
              "      <td>NaN</td>\n",
              "      <td>NaN</td>\n",
              "      <td>NaN</td>\n",
              "      <td>NaN</td>\n",
              "      <td>NaN</td>\n",
              "      <td>NaN</td>\n",
              "      <td>NaN</td>\n",
              "      <td>206.0</td>\n",
              "      <td>NaN</td>\n",
              "      <td>149.0</td>\n",
              "      <td>154.0</td>\n",
              "    </tr>\n",
              "    <tr>\n",
              "      <th>2</th>\n",
              "      <td>3</td>\n",
              "      <td>NaN</td>\n",
              "      <td>NaN</td>\n",
              "      <td>NaN</td>\n",
              "      <td>34.0</td>\n",
              "      <td>NaN</td>\n",
              "      <td>NaN</td>\n",
              "      <td>NaN</td>\n",
              "      <td>NaN</td>\n",
              "      <td>NaN</td>\n",
              "      <td>NaN</td>\n",
              "      <td>NaN</td>\n",
              "      <td>205.0</td>\n",
              "      <td>NaN</td>\n",
              "      <td>152.0</td>\n",
              "      <td>153.0</td>\n",
              "    </tr>\n",
              "    <tr>\n",
              "      <th>3</th>\n",
              "      <td>4</td>\n",
              "      <td>NaN</td>\n",
              "      <td>NaN</td>\n",
              "      <td>NaN</td>\n",
              "      <td>81.0</td>\n",
              "      <td>NaN</td>\n",
              "      <td>NaN</td>\n",
              "      <td>NaN</td>\n",
              "      <td>NaN</td>\n",
              "      <td>NaN</td>\n",
              "      <td>NaN</td>\n",
              "      <td>NaN</td>\n",
              "      <td>207.0</td>\n",
              "      <td>NaN</td>\n",
              "      <td>153.0</td>\n",
              "      <td>154.0</td>\n",
              "    </tr>\n",
              "    <tr>\n",
              "      <th>4</th>\n",
              "      <td>5</td>\n",
              "      <td>NaN</td>\n",
              "      <td>NaN</td>\n",
              "      <td>NaN</td>\n",
              "      <td>78.0</td>\n",
              "      <td>NaN</td>\n",
              "      <td>NaN</td>\n",
              "      <td>NaN</td>\n",
              "      <td>NaN</td>\n",
              "      <td>NaN</td>\n",
              "      <td>NaN</td>\n",
              "      <td>NaN</td>\n",
              "      <td>203.0</td>\n",
              "      <td>NaN</td>\n",
              "      <td>151.0</td>\n",
              "      <td>152.0</td>\n",
              "    </tr>\n",
              "  </tbody>\n",
              "</table>\n",
              "</div>"
            ],
            "text/plain": [
              "   key  Bulk 1  Bulk 2  Bulk 3  Bulk 4  Bulk 5  Bulk 6  Bulk 7  Bulk 8  \\\n",
              "0    1     NaN     NaN     NaN    43.0     NaN     NaN     NaN     NaN   \n",
              "1    2     NaN     NaN     NaN    73.0     NaN     NaN     NaN     NaN   \n",
              "2    3     NaN     NaN     NaN    34.0     NaN     NaN     NaN     NaN   \n",
              "3    4     NaN     NaN     NaN    81.0     NaN     NaN     NaN     NaN   \n",
              "4    5     NaN     NaN     NaN    78.0     NaN     NaN     NaN     NaN   \n",
              "\n",
              "   Bulk 9  Bulk 10  Bulk 11  Bulk 12  Bulk 13  Bulk 14  Bulk 15  \n",
              "0     NaN      NaN      NaN    206.0      NaN    150.0    154.0  \n",
              "1     NaN      NaN      NaN    206.0      NaN    149.0    154.0  \n",
              "2     NaN      NaN      NaN    205.0      NaN    152.0    153.0  \n",
              "3     NaN      NaN      NaN    207.0      NaN    153.0    154.0  \n",
              "4     NaN      NaN      NaN    203.0      NaN    151.0    152.0  "
            ]
          },
          "metadata": {},
          "output_type": "display_data"
        }
      ],
      "source": [
        "display(data_bulk.head())"
      ]
    },
    {
      "cell_type": "code",
      "execution_count": null,
      "id": "c3a52386",
      "metadata": {
        "id": "c3a52386",
        "outputId": "3ed4e627-541e-417f-d83e-fb6468481ca7"
      },
      "outputs": [
        {
          "name": "stdout",
          "output_type": "stream",
          "text": [
            "<class 'pandas.core.frame.DataFrame'>\n",
            "RangeIndex: 3129 entries, 0 to 3128\n",
            "Data columns (total 16 columns):\n",
            " #   Column   Non-Null Count  Dtype \n",
            "---  ------   --------------  ----- \n",
            " 0   key      3129 non-null   int64 \n",
            " 1   Bulk 1   252 non-null    object\n",
            " 2   Bulk 2   22 non-null     object\n",
            " 3   Bulk 3   1298 non-null   object\n",
            " 4   Bulk 4   1014 non-null   object\n",
            " 5   Bulk 5   77 non-null     object\n",
            " 6   Bulk 6   576 non-null    object\n",
            " 7   Bulk 7   25 non-null     object\n",
            " 8   Bulk 8   1 non-null      object\n",
            " 9   Bulk 9   19 non-null     object\n",
            " 10  Bulk 10  176 non-null    object\n",
            " 11  Bulk 11  177 non-null    object\n",
            " 12  Bulk 12  2450 non-null   object\n",
            " 13  Bulk 13  18 non-null     object\n",
            " 14  Bulk 14  2806 non-null   object\n",
            " 15  Bulk 15  2248 non-null   object\n",
            "dtypes: int64(1), object(15)\n",
            "memory usage: 391.2+ KB\n"
          ]
        }
      ],
      "source": [
        "data_bulk_time.info()"
      ]
    },
    {
      "cell_type": "code",
      "execution_count": null,
      "id": "d01c7237",
      "metadata": {
        "id": "d01c7237",
        "outputId": "f9df4eb2-cf6f-4e99-c313-e385617ae044"
      },
      "outputs": [
        {
          "data": {
            "text/html": [
              "<div>\n",
              "<style scoped>\n",
              "    .dataframe tbody tr th:only-of-type {\n",
              "        vertical-align: middle;\n",
              "    }\n",
              "\n",
              "    .dataframe tbody tr th {\n",
              "        vertical-align: top;\n",
              "    }\n",
              "\n",
              "    .dataframe thead th {\n",
              "        text-align: right;\n",
              "    }\n",
              "</style>\n",
              "<table border=\"1\" class=\"dataframe\">\n",
              "  <thead>\n",
              "    <tr style=\"text-align: right;\">\n",
              "      <th></th>\n",
              "      <th>key</th>\n",
              "      <th>Bulk 1</th>\n",
              "      <th>Bulk 2</th>\n",
              "      <th>Bulk 3</th>\n",
              "      <th>Bulk 4</th>\n",
              "      <th>Bulk 5</th>\n",
              "      <th>Bulk 6</th>\n",
              "      <th>Bulk 7</th>\n",
              "      <th>Bulk 8</th>\n",
              "      <th>Bulk 9</th>\n",
              "      <th>Bulk 10</th>\n",
              "      <th>Bulk 11</th>\n",
              "      <th>Bulk 12</th>\n",
              "      <th>Bulk 13</th>\n",
              "      <th>Bulk 14</th>\n",
              "      <th>Bulk 15</th>\n",
              "    </tr>\n",
              "  </thead>\n",
              "  <tbody>\n",
              "    <tr>\n",
              "      <th>0</th>\n",
              "      <td>1</td>\n",
              "      <td>NaN</td>\n",
              "      <td>NaN</td>\n",
              "      <td>NaN</td>\n",
              "      <td>2019-05-03 11:21:30</td>\n",
              "      <td>NaN</td>\n",
              "      <td>NaN</td>\n",
              "      <td>NaN</td>\n",
              "      <td>NaN</td>\n",
              "      <td>NaN</td>\n",
              "      <td>NaN</td>\n",
              "      <td>NaN</td>\n",
              "      <td>2019-05-03 11:03:52</td>\n",
              "      <td>NaN</td>\n",
              "      <td>2019-05-03 11:03:52</td>\n",
              "      <td>2019-05-03 11:03:52</td>\n",
              "    </tr>\n",
              "    <tr>\n",
              "      <th>1</th>\n",
              "      <td>2</td>\n",
              "      <td>NaN</td>\n",
              "      <td>NaN</td>\n",
              "      <td>NaN</td>\n",
              "      <td>2019-05-03 11:46:38</td>\n",
              "      <td>NaN</td>\n",
              "      <td>NaN</td>\n",
              "      <td>NaN</td>\n",
              "      <td>NaN</td>\n",
              "      <td>NaN</td>\n",
              "      <td>NaN</td>\n",
              "      <td>NaN</td>\n",
              "      <td>2019-05-03 11:40:20</td>\n",
              "      <td>NaN</td>\n",
              "      <td>2019-05-03 11:40:20</td>\n",
              "      <td>2019-05-03 11:40:20</td>\n",
              "    </tr>\n",
              "    <tr>\n",
              "      <th>2</th>\n",
              "      <td>3</td>\n",
              "      <td>NaN</td>\n",
              "      <td>NaN</td>\n",
              "      <td>NaN</td>\n",
              "      <td>2019-05-03 12:31:06</td>\n",
              "      <td>NaN</td>\n",
              "      <td>NaN</td>\n",
              "      <td>NaN</td>\n",
              "      <td>NaN</td>\n",
              "      <td>NaN</td>\n",
              "      <td>NaN</td>\n",
              "      <td>NaN</td>\n",
              "      <td>2019-05-03 12:09:40</td>\n",
              "      <td>NaN</td>\n",
              "      <td>2019-05-03 12:09:40</td>\n",
              "      <td>2019-05-03 12:09:40</td>\n",
              "    </tr>\n",
              "    <tr>\n",
              "      <th>3</th>\n",
              "      <td>4</td>\n",
              "      <td>NaN</td>\n",
              "      <td>NaN</td>\n",
              "      <td>NaN</td>\n",
              "      <td>2019-05-03 12:48:43</td>\n",
              "      <td>NaN</td>\n",
              "      <td>NaN</td>\n",
              "      <td>NaN</td>\n",
              "      <td>NaN</td>\n",
              "      <td>NaN</td>\n",
              "      <td>NaN</td>\n",
              "      <td>NaN</td>\n",
              "      <td>2019-05-03 12:41:24</td>\n",
              "      <td>NaN</td>\n",
              "      <td>2019-05-03 12:41:24</td>\n",
              "      <td>2019-05-03 12:41:24</td>\n",
              "    </tr>\n",
              "    <tr>\n",
              "      <th>4</th>\n",
              "      <td>5</td>\n",
              "      <td>NaN</td>\n",
              "      <td>NaN</td>\n",
              "      <td>NaN</td>\n",
              "      <td>2019-05-03 13:18:50</td>\n",
              "      <td>NaN</td>\n",
              "      <td>NaN</td>\n",
              "      <td>NaN</td>\n",
              "      <td>NaN</td>\n",
              "      <td>NaN</td>\n",
              "      <td>NaN</td>\n",
              "      <td>NaN</td>\n",
              "      <td>2019-05-03 13:12:56</td>\n",
              "      <td>NaN</td>\n",
              "      <td>2019-05-03 13:12:56</td>\n",
              "      <td>2019-05-03 13:12:56</td>\n",
              "    </tr>\n",
              "  </tbody>\n",
              "</table>\n",
              "</div>"
            ],
            "text/plain": [
              "   key Bulk 1 Bulk 2 Bulk 3               Bulk 4 Bulk 5 Bulk 6 Bulk 7 Bulk 8  \\\n",
              "0    1    NaN    NaN    NaN  2019-05-03 11:21:30    NaN    NaN    NaN    NaN   \n",
              "1    2    NaN    NaN    NaN  2019-05-03 11:46:38    NaN    NaN    NaN    NaN   \n",
              "2    3    NaN    NaN    NaN  2019-05-03 12:31:06    NaN    NaN    NaN    NaN   \n",
              "3    4    NaN    NaN    NaN  2019-05-03 12:48:43    NaN    NaN    NaN    NaN   \n",
              "4    5    NaN    NaN    NaN  2019-05-03 13:18:50    NaN    NaN    NaN    NaN   \n",
              "\n",
              "  Bulk 9 Bulk 10 Bulk 11              Bulk 12 Bulk 13              Bulk 14  \\\n",
              "0    NaN     NaN     NaN  2019-05-03 11:03:52     NaN  2019-05-03 11:03:52   \n",
              "1    NaN     NaN     NaN  2019-05-03 11:40:20     NaN  2019-05-03 11:40:20   \n",
              "2    NaN     NaN     NaN  2019-05-03 12:09:40     NaN  2019-05-03 12:09:40   \n",
              "3    NaN     NaN     NaN  2019-05-03 12:41:24     NaN  2019-05-03 12:41:24   \n",
              "4    NaN     NaN     NaN  2019-05-03 13:12:56     NaN  2019-05-03 13:12:56   \n",
              "\n",
              "               Bulk 15  \n",
              "0  2019-05-03 11:03:52  \n",
              "1  2019-05-03 11:40:20  \n",
              "2  2019-05-03 12:09:40  \n",
              "3  2019-05-03 12:41:24  \n",
              "4  2019-05-03 13:12:56  "
            ]
          },
          "metadata": {},
          "output_type": "display_data"
        }
      ],
      "source": [
        "display(data_bulk_time.head())"
      ]
    },
    {
      "cell_type": "code",
      "execution_count": null,
      "id": "9efd20ef",
      "metadata": {
        "id": "9efd20ef",
        "outputId": "f25210f4-d4e9-4fa5-edeb-c14429aee141"
      },
      "outputs": [
        {
          "name": "stdout",
          "output_type": "stream",
          "text": [
            "<class 'pandas.core.frame.DataFrame'>\n",
            "RangeIndex: 3239 entries, 0 to 3238\n",
            "Data columns (total 2 columns):\n",
            " #   Column  Non-Null Count  Dtype  \n",
            "---  ------  --------------  -----  \n",
            " 0   key     3239 non-null   int64  \n",
            " 1   Газ 1   3239 non-null   float64\n",
            "dtypes: float64(1), int64(1)\n",
            "memory usage: 50.7 KB\n"
          ]
        }
      ],
      "source": [
        "data_gas.info()"
      ]
    },
    {
      "cell_type": "code",
      "execution_count": null,
      "id": "5ea8ea4f",
      "metadata": {
        "id": "5ea8ea4f",
        "outputId": "9656f734-47f3-4bb1-ab14-882bb83274c2"
      },
      "outputs": [
        {
          "data": {
            "text/html": [
              "<div>\n",
              "<style scoped>\n",
              "    .dataframe tbody tr th:only-of-type {\n",
              "        vertical-align: middle;\n",
              "    }\n",
              "\n",
              "    .dataframe tbody tr th {\n",
              "        vertical-align: top;\n",
              "    }\n",
              "\n",
              "    .dataframe thead th {\n",
              "        text-align: right;\n",
              "    }\n",
              "</style>\n",
              "<table border=\"1\" class=\"dataframe\">\n",
              "  <thead>\n",
              "    <tr style=\"text-align: right;\">\n",
              "      <th></th>\n",
              "      <th>key</th>\n",
              "      <th>Газ 1</th>\n",
              "    </tr>\n",
              "  </thead>\n",
              "  <tbody>\n",
              "    <tr>\n",
              "      <th>0</th>\n",
              "      <td>1</td>\n",
              "      <td>29.749986</td>\n",
              "    </tr>\n",
              "    <tr>\n",
              "      <th>1</th>\n",
              "      <td>2</td>\n",
              "      <td>12.555561</td>\n",
              "    </tr>\n",
              "    <tr>\n",
              "      <th>2</th>\n",
              "      <td>3</td>\n",
              "      <td>28.554793</td>\n",
              "    </tr>\n",
              "    <tr>\n",
              "      <th>3</th>\n",
              "      <td>4</td>\n",
              "      <td>18.841219</td>\n",
              "    </tr>\n",
              "    <tr>\n",
              "      <th>4</th>\n",
              "      <td>5</td>\n",
              "      <td>5.413692</td>\n",
              "    </tr>\n",
              "  </tbody>\n",
              "</table>\n",
              "</div>"
            ],
            "text/plain": [
              "   key      Газ 1\n",
              "0    1  29.749986\n",
              "1    2  12.555561\n",
              "2    3  28.554793\n",
              "3    4  18.841219\n",
              "4    5   5.413692"
            ]
          },
          "metadata": {},
          "output_type": "display_data"
        }
      ],
      "source": [
        "display(data_gas.head())"
      ]
    },
    {
      "cell_type": "code",
      "execution_count": null,
      "id": "f48bc326",
      "metadata": {
        "id": "f48bc326",
        "outputId": "898b52bd-4f8c-4f64-a618-0cb0f8a07fea"
      },
      "outputs": [
        {
          "name": "stdout",
          "output_type": "stream",
          "text": [
            "<class 'pandas.core.frame.DataFrame'>\n",
            "RangeIndex: 15907 entries, 0 to 15906\n",
            "Data columns (total 3 columns):\n",
            " #   Column        Non-Null Count  Dtype  \n",
            "---  ------        --------------  -----  \n",
            " 0   key           15907 non-null  int64  \n",
            " 1   Время замера  15907 non-null  object \n",
            " 2   Температура   13006 non-null  float64\n",
            "dtypes: float64(1), int64(1), object(1)\n",
            "memory usage: 372.9+ KB\n"
          ]
        }
      ],
      "source": [
        "data_temp.info()"
      ]
    },
    {
      "cell_type": "code",
      "execution_count": null,
      "id": "b343b817",
      "metadata": {
        "id": "b343b817",
        "outputId": "30386567-59dd-4643-d5da-d8e176f18577"
      },
      "outputs": [
        {
          "data": {
            "text/html": [
              "<div>\n",
              "<style scoped>\n",
              "    .dataframe tbody tr th:only-of-type {\n",
              "        vertical-align: middle;\n",
              "    }\n",
              "\n",
              "    .dataframe tbody tr th {\n",
              "        vertical-align: top;\n",
              "    }\n",
              "\n",
              "    .dataframe thead th {\n",
              "        text-align: right;\n",
              "    }\n",
              "</style>\n",
              "<table border=\"1\" class=\"dataframe\">\n",
              "  <thead>\n",
              "    <tr style=\"text-align: right;\">\n",
              "      <th></th>\n",
              "      <th>key</th>\n",
              "      <th>Время замера</th>\n",
              "      <th>Температура</th>\n",
              "    </tr>\n",
              "  </thead>\n",
              "  <tbody>\n",
              "    <tr>\n",
              "      <th>0</th>\n",
              "      <td>1</td>\n",
              "      <td>2019-05-03 11:16:18</td>\n",
              "      <td>1571.0</td>\n",
              "    </tr>\n",
              "    <tr>\n",
              "      <th>1</th>\n",
              "      <td>1</td>\n",
              "      <td>2019-05-03 11:25:53</td>\n",
              "      <td>1604.0</td>\n",
              "    </tr>\n",
              "    <tr>\n",
              "      <th>2</th>\n",
              "      <td>1</td>\n",
              "      <td>2019-05-03 11:29:11</td>\n",
              "      <td>1618.0</td>\n",
              "    </tr>\n",
              "    <tr>\n",
              "      <th>3</th>\n",
              "      <td>1</td>\n",
              "      <td>2019-05-03 11:30:01</td>\n",
              "      <td>1601.0</td>\n",
              "    </tr>\n",
              "    <tr>\n",
              "      <th>4</th>\n",
              "      <td>1</td>\n",
              "      <td>2019-05-03 11:30:39</td>\n",
              "      <td>1613.0</td>\n",
              "    </tr>\n",
              "  </tbody>\n",
              "</table>\n",
              "</div>"
            ],
            "text/plain": [
              "   key         Время замера  Температура\n",
              "0    1  2019-05-03 11:16:18       1571.0\n",
              "1    1  2019-05-03 11:25:53       1604.0\n",
              "2    1  2019-05-03 11:29:11       1618.0\n",
              "3    1  2019-05-03 11:30:01       1601.0\n",
              "4    1  2019-05-03 11:30:39       1613.0"
            ]
          },
          "metadata": {},
          "output_type": "display_data"
        }
      ],
      "source": [
        "display(data_temp.head())"
      ]
    },
    {
      "cell_type": "code",
      "execution_count": null,
      "id": "95fffbcd",
      "metadata": {
        "id": "95fffbcd",
        "outputId": "9307f478-c798-4cad-d0c9-7b26ef83c1a7"
      },
      "outputs": [
        {
          "name": "stdout",
          "output_type": "stream",
          "text": [
            "<class 'pandas.core.frame.DataFrame'>\n",
            "RangeIndex: 3081 entries, 0 to 3080\n",
            "Data columns (total 10 columns):\n",
            " #   Column  Non-Null Count  Dtype  \n",
            "---  ------  --------------  -----  \n",
            " 0   key     3081 non-null   int64  \n",
            " 1   Wire 1  3055 non-null   float64\n",
            " 2   Wire 2  1079 non-null   float64\n",
            " 3   Wire 3  63 non-null     float64\n",
            " 4   Wire 4  14 non-null     float64\n",
            " 5   Wire 5  1 non-null      float64\n",
            " 6   Wire 6  73 non-null     float64\n",
            " 7   Wire 7  11 non-null     float64\n",
            " 8   Wire 8  19 non-null     float64\n",
            " 9   Wire 9  29 non-null     float64\n",
            "dtypes: float64(9), int64(1)\n",
            "memory usage: 240.8 KB\n"
          ]
        }
      ],
      "source": [
        "data_wire.info()"
      ]
    },
    {
      "cell_type": "code",
      "execution_count": null,
      "id": "2256793f",
      "metadata": {
        "id": "2256793f",
        "outputId": "bd1c0d30-674f-433d-e8b2-d61d1c31bdf3"
      },
      "outputs": [
        {
          "data": {
            "text/html": [
              "<div>\n",
              "<style scoped>\n",
              "    .dataframe tbody tr th:only-of-type {\n",
              "        vertical-align: middle;\n",
              "    }\n",
              "\n",
              "    .dataframe tbody tr th {\n",
              "        vertical-align: top;\n",
              "    }\n",
              "\n",
              "    .dataframe thead th {\n",
              "        text-align: right;\n",
              "    }\n",
              "</style>\n",
              "<table border=\"1\" class=\"dataframe\">\n",
              "  <thead>\n",
              "    <tr style=\"text-align: right;\">\n",
              "      <th></th>\n",
              "      <th>key</th>\n",
              "      <th>Wire 1</th>\n",
              "      <th>Wire 2</th>\n",
              "      <th>Wire 3</th>\n",
              "      <th>Wire 4</th>\n",
              "      <th>Wire 5</th>\n",
              "      <th>Wire 6</th>\n",
              "      <th>Wire 7</th>\n",
              "      <th>Wire 8</th>\n",
              "      <th>Wire 9</th>\n",
              "    </tr>\n",
              "  </thead>\n",
              "  <tbody>\n",
              "    <tr>\n",
              "      <th>0</th>\n",
              "      <td>1</td>\n",
              "      <td>60.059998</td>\n",
              "      <td>NaN</td>\n",
              "      <td>NaN</td>\n",
              "      <td>NaN</td>\n",
              "      <td>NaN</td>\n",
              "      <td>NaN</td>\n",
              "      <td>NaN</td>\n",
              "      <td>NaN</td>\n",
              "      <td>NaN</td>\n",
              "    </tr>\n",
              "    <tr>\n",
              "      <th>1</th>\n",
              "      <td>2</td>\n",
              "      <td>96.052315</td>\n",
              "      <td>NaN</td>\n",
              "      <td>NaN</td>\n",
              "      <td>NaN</td>\n",
              "      <td>NaN</td>\n",
              "      <td>NaN</td>\n",
              "      <td>NaN</td>\n",
              "      <td>NaN</td>\n",
              "      <td>NaN</td>\n",
              "    </tr>\n",
              "    <tr>\n",
              "      <th>2</th>\n",
              "      <td>3</td>\n",
              "      <td>91.160157</td>\n",
              "      <td>NaN</td>\n",
              "      <td>NaN</td>\n",
              "      <td>NaN</td>\n",
              "      <td>NaN</td>\n",
              "      <td>NaN</td>\n",
              "      <td>NaN</td>\n",
              "      <td>NaN</td>\n",
              "      <td>NaN</td>\n",
              "    </tr>\n",
              "    <tr>\n",
              "      <th>3</th>\n",
              "      <td>4</td>\n",
              "      <td>89.063515</td>\n",
              "      <td>NaN</td>\n",
              "      <td>NaN</td>\n",
              "      <td>NaN</td>\n",
              "      <td>NaN</td>\n",
              "      <td>NaN</td>\n",
              "      <td>NaN</td>\n",
              "      <td>NaN</td>\n",
              "      <td>NaN</td>\n",
              "    </tr>\n",
              "    <tr>\n",
              "      <th>4</th>\n",
              "      <td>5</td>\n",
              "      <td>89.238236</td>\n",
              "      <td>9.11456</td>\n",
              "      <td>NaN</td>\n",
              "      <td>NaN</td>\n",
              "      <td>NaN</td>\n",
              "      <td>NaN</td>\n",
              "      <td>NaN</td>\n",
              "      <td>NaN</td>\n",
              "      <td>NaN</td>\n",
              "    </tr>\n",
              "  </tbody>\n",
              "</table>\n",
              "</div>"
            ],
            "text/plain": [
              "   key     Wire 1   Wire 2  Wire 3  Wire 4  Wire 5  Wire 6  Wire 7  Wire 8  \\\n",
              "0    1  60.059998      NaN     NaN     NaN     NaN     NaN     NaN     NaN   \n",
              "1    2  96.052315      NaN     NaN     NaN     NaN     NaN     NaN     NaN   \n",
              "2    3  91.160157      NaN     NaN     NaN     NaN     NaN     NaN     NaN   \n",
              "3    4  89.063515      NaN     NaN     NaN     NaN     NaN     NaN     NaN   \n",
              "4    5  89.238236  9.11456     NaN     NaN     NaN     NaN     NaN     NaN   \n",
              "\n",
              "   Wire 9  \n",
              "0     NaN  \n",
              "1     NaN  \n",
              "2     NaN  \n",
              "3     NaN  \n",
              "4     NaN  "
            ]
          },
          "metadata": {},
          "output_type": "display_data"
        }
      ],
      "source": [
        "display(data_wire.head())"
      ]
    },
    {
      "cell_type": "code",
      "execution_count": null,
      "id": "a51bea82",
      "metadata": {
        "id": "a51bea82",
        "outputId": "86c7c103-3a5f-4dc8-d55f-23f448ae54c3"
      },
      "outputs": [
        {
          "name": "stdout",
          "output_type": "stream",
          "text": [
            "<class 'pandas.core.frame.DataFrame'>\n",
            "RangeIndex: 3081 entries, 0 to 3080\n",
            "Data columns (total 10 columns):\n",
            " #   Column  Non-Null Count  Dtype \n",
            "---  ------  --------------  ----- \n",
            " 0   key     3081 non-null   int64 \n",
            " 1   Wire 1  3055 non-null   object\n",
            " 2   Wire 2  1079 non-null   object\n",
            " 3   Wire 3  63 non-null     object\n",
            " 4   Wire 4  14 non-null     object\n",
            " 5   Wire 5  1 non-null      object\n",
            " 6   Wire 6  73 non-null     object\n",
            " 7   Wire 7  11 non-null     object\n",
            " 8   Wire 8  19 non-null     object\n",
            " 9   Wire 9  29 non-null     object\n",
            "dtypes: int64(1), object(9)\n",
            "memory usage: 240.8+ KB\n"
          ]
        }
      ],
      "source": [
        "data_wire_time.info()"
      ]
    },
    {
      "cell_type": "code",
      "execution_count": null,
      "id": "ebf206a5",
      "metadata": {
        "id": "ebf206a5",
        "outputId": "343d0f6c-fb8b-4de3-c673-9988bc169f77"
      },
      "outputs": [
        {
          "data": {
            "text/html": [
              "<div>\n",
              "<style scoped>\n",
              "    .dataframe tbody tr th:only-of-type {\n",
              "        vertical-align: middle;\n",
              "    }\n",
              "\n",
              "    .dataframe tbody tr th {\n",
              "        vertical-align: top;\n",
              "    }\n",
              "\n",
              "    .dataframe thead th {\n",
              "        text-align: right;\n",
              "    }\n",
              "</style>\n",
              "<table border=\"1\" class=\"dataframe\">\n",
              "  <thead>\n",
              "    <tr style=\"text-align: right;\">\n",
              "      <th></th>\n",
              "      <th>key</th>\n",
              "      <th>Wire 1</th>\n",
              "      <th>Wire 2</th>\n",
              "      <th>Wire 3</th>\n",
              "      <th>Wire 4</th>\n",
              "      <th>Wire 5</th>\n",
              "      <th>Wire 6</th>\n",
              "      <th>Wire 7</th>\n",
              "      <th>Wire 8</th>\n",
              "      <th>Wire 9</th>\n",
              "    </tr>\n",
              "  </thead>\n",
              "  <tbody>\n",
              "    <tr>\n",
              "      <th>0</th>\n",
              "      <td>1</td>\n",
              "      <td>2019-05-03 11:11:41</td>\n",
              "      <td>NaN</td>\n",
              "      <td>NaN</td>\n",
              "      <td>NaN</td>\n",
              "      <td>NaN</td>\n",
              "      <td>NaN</td>\n",
              "      <td>NaN</td>\n",
              "      <td>NaN</td>\n",
              "      <td>NaN</td>\n",
              "    </tr>\n",
              "    <tr>\n",
              "      <th>1</th>\n",
              "      <td>2</td>\n",
              "      <td>2019-05-03 11:46:10</td>\n",
              "      <td>NaN</td>\n",
              "      <td>NaN</td>\n",
              "      <td>NaN</td>\n",
              "      <td>NaN</td>\n",
              "      <td>NaN</td>\n",
              "      <td>NaN</td>\n",
              "      <td>NaN</td>\n",
              "      <td>NaN</td>\n",
              "    </tr>\n",
              "    <tr>\n",
              "      <th>2</th>\n",
              "      <td>3</td>\n",
              "      <td>2019-05-03 12:13:47</td>\n",
              "      <td>NaN</td>\n",
              "      <td>NaN</td>\n",
              "      <td>NaN</td>\n",
              "      <td>NaN</td>\n",
              "      <td>NaN</td>\n",
              "      <td>NaN</td>\n",
              "      <td>NaN</td>\n",
              "      <td>NaN</td>\n",
              "    </tr>\n",
              "    <tr>\n",
              "      <th>3</th>\n",
              "      <td>4</td>\n",
              "      <td>2019-05-03 12:48:05</td>\n",
              "      <td>NaN</td>\n",
              "      <td>NaN</td>\n",
              "      <td>NaN</td>\n",
              "      <td>NaN</td>\n",
              "      <td>NaN</td>\n",
              "      <td>NaN</td>\n",
              "      <td>NaN</td>\n",
              "      <td>NaN</td>\n",
              "    </tr>\n",
              "    <tr>\n",
              "      <th>4</th>\n",
              "      <td>5</td>\n",
              "      <td>2019-05-03 13:18:15</td>\n",
              "      <td>2019-05-03 13:32:06</td>\n",
              "      <td>NaN</td>\n",
              "      <td>NaN</td>\n",
              "      <td>NaN</td>\n",
              "      <td>NaN</td>\n",
              "      <td>NaN</td>\n",
              "      <td>NaN</td>\n",
              "      <td>NaN</td>\n",
              "    </tr>\n",
              "  </tbody>\n",
              "</table>\n",
              "</div>"
            ],
            "text/plain": [
              "   key               Wire 1               Wire 2 Wire 3 Wire 4 Wire 5 Wire 6  \\\n",
              "0    1  2019-05-03 11:11:41                  NaN    NaN    NaN    NaN    NaN   \n",
              "1    2  2019-05-03 11:46:10                  NaN    NaN    NaN    NaN    NaN   \n",
              "2    3  2019-05-03 12:13:47                  NaN    NaN    NaN    NaN    NaN   \n",
              "3    4  2019-05-03 12:48:05                  NaN    NaN    NaN    NaN    NaN   \n",
              "4    5  2019-05-03 13:18:15  2019-05-03 13:32:06    NaN    NaN    NaN    NaN   \n",
              "\n",
              "  Wire 7 Wire 8 Wire 9  \n",
              "0    NaN    NaN    NaN  \n",
              "1    NaN    NaN    NaN  \n",
              "2    NaN    NaN    NaN  \n",
              "3    NaN    NaN    NaN  \n",
              "4    NaN    NaN    NaN  "
            ]
          },
          "metadata": {},
          "output_type": "display_data"
        }
      ],
      "source": [
        "display(data_wire_time.head())"
      ]
    },
    {
      "cell_type": "markdown",
      "id": "26f37539",
      "metadata": {
        "id": "26f37539"
      },
      "source": [
        "# Предобработка данных.\n"
      ]
    },
    {
      "cell_type": "markdown",
      "id": "88b7dfb5",
      "metadata": {
        "id": "88b7dfb5"
      },
      "source": [
        "Справочно: для работы с графитовыми электродами нужен постоянный ток. \n",
        "Активная мощность характеризует энергию, расходуемую источником на производство полезной работы потребителем.\n",
        "Поэтому из указанной таблицы возьмем сведения о длительности нагрева каждой партии и среднюю активную мощность."
      ]
    },
    {
      "cell_type": "code",
      "execution_count": null,
      "id": "16afbb0a",
      "metadata": {
        "id": "16afbb0a"
      },
      "outputs": [],
      "source": [
        "#изменим тип данных на datetime64\n",
        "data_arc['Начало нагрева дугой']= pd.to_datetime(data_arc['Начало нагрева дугой'])\n",
        "data_arc['Конец нагрева дугой']= pd.to_datetime(data_arc['Конец нагрева дугой'])"
      ]
    },
    {
      "cell_type": "code",
      "execution_count": null,
      "id": "79c05668",
      "metadata": {
        "id": "79c05668"
      },
      "outputs": [],
      "source": [
        "data_arc['Промежуток'] = data_arc['Конец нагрева дугой'] - data_arc['Начало нагрева дугой']"
      ]
    },
    {
      "cell_type": "code",
      "execution_count": null,
      "id": "47a77287",
      "metadata": {
        "id": "47a77287",
        "outputId": "cb1745f3-d410-47b4-f7ad-026cdbe00962"
      },
      "outputs": [
        {
          "data": {
            "text/html": [
              "<div>\n",
              "<style scoped>\n",
              "    .dataframe tbody tr th:only-of-type {\n",
              "        vertical-align: middle;\n",
              "    }\n",
              "\n",
              "    .dataframe tbody tr th {\n",
              "        vertical-align: top;\n",
              "    }\n",
              "\n",
              "    .dataframe thead tr th {\n",
              "        text-align: left;\n",
              "    }\n",
              "\n",
              "    .dataframe thead tr:last-of-type th {\n",
              "        text-align: right;\n",
              "    }\n",
              "</style>\n",
              "<table border=\"1\" class=\"dataframe\">\n",
              "  <thead>\n",
              "    <tr>\n",
              "      <th></th>\n",
              "      <th>Промежуток</th>\n",
              "    </tr>\n",
              "    <tr>\n",
              "      <th></th>\n",
              "      <th>sum</th>\n",
              "    </tr>\n",
              "    <tr>\n",
              "      <th>key</th>\n",
              "      <th></th>\n",
              "    </tr>\n",
              "  </thead>\n",
              "  <tbody>\n",
              "    <tr>\n",
              "      <th>1</th>\n",
              "      <td>0 days 00:18:18</td>\n",
              "    </tr>\n",
              "    <tr>\n",
              "      <th>2</th>\n",
              "      <td>0 days 00:13:31</td>\n",
              "    </tr>\n",
              "    <tr>\n",
              "      <th>3</th>\n",
              "      <td>0 days 00:10:55</td>\n",
              "    </tr>\n",
              "    <tr>\n",
              "      <th>4</th>\n",
              "      <td>0 days 00:12:21</td>\n",
              "    </tr>\n",
              "    <tr>\n",
              "      <th>5</th>\n",
              "      <td>0 days 00:14:29</td>\n",
              "    </tr>\n",
              "    <tr>\n",
              "      <th>...</th>\n",
              "      <td>...</td>\n",
              "    </tr>\n",
              "    <tr>\n",
              "      <th>3237</th>\n",
              "      <td>0 days 00:15:09</td>\n",
              "    </tr>\n",
              "    <tr>\n",
              "      <th>3238</th>\n",
              "      <td>0 days 00:09:06</td>\n",
              "    </tr>\n",
              "    <tr>\n",
              "      <th>3239</th>\n",
              "      <td>0 days 00:20:16</td>\n",
              "    </tr>\n",
              "    <tr>\n",
              "      <th>3240</th>\n",
              "      <td>0 days 00:13:59</td>\n",
              "    </tr>\n",
              "    <tr>\n",
              "      <th>3241</th>\n",
              "      <td>0 days 00:10:59</td>\n",
              "    </tr>\n",
              "  </tbody>\n",
              "</table>\n",
              "<p>3214 rows × 1 columns</p>\n",
              "</div>"
            ],
            "text/plain": [
              "          Промежуток\n",
              "                 sum\n",
              "key                 \n",
              "1    0 days 00:18:18\n",
              "2    0 days 00:13:31\n",
              "3    0 days 00:10:55\n",
              "4    0 days 00:12:21\n",
              "5    0 days 00:14:29\n",
              "...              ...\n",
              "3237 0 days 00:15:09\n",
              "3238 0 days 00:09:06\n",
              "3239 0 days 00:20:16\n",
              "3240 0 days 00:13:59\n",
              "3241 0 days 00:10:59\n",
              "\n",
              "[3214 rows x 1 columns]"
            ]
          },
          "metadata": {},
          "output_type": "display_data"
        }
      ],
      "source": [
        "agg_func_math = {\n",
        "    'Промежуток': ['sum']\n",
        "}\n",
        "data_electrode_heating_sum = data_arc.groupby(['key']).agg(agg_func_math)\n",
        "display(data_electrode_heating_sum)"
      ]
    },
    {
      "cell_type": "code",
      "execution_count": null,
      "id": "0da16fdc",
      "metadata": {
        "id": "0da16fdc"
      },
      "outputs": [],
      "source": [
        "data_electrode_heating_sum.columns = ['electrode_heating_sum'] #назовем столбец"
      ]
    },
    {
      "cell_type": "code",
      "execution_count": null,
      "id": "798d394a",
      "metadata": {
        "id": "798d394a"
      },
      "outputs": [],
      "source": [
        "#посчитаем длительность нагрева в секундах\n",
        "data_electrode_heating_sum['electrode_heating_sum'] = data_electrode_heating_sum['electrode_heating_sum'].dt.total_seconds()"
      ]
    },
    {
      "cell_type": "code",
      "execution_count": null,
      "id": "70e48818",
      "metadata": {
        "id": "70e48818",
        "outputId": "d6dc8c6c-4548-4a52-82dd-8e581b6ee00f"
      },
      "outputs": [
        {
          "data": {
            "text/html": [
              "<div>\n",
              "<style scoped>\n",
              "    .dataframe tbody tr th:only-of-type {\n",
              "        vertical-align: middle;\n",
              "    }\n",
              "\n",
              "    .dataframe tbody tr th {\n",
              "        vertical-align: top;\n",
              "    }\n",
              "\n",
              "    .dataframe thead tr th {\n",
              "        text-align: left;\n",
              "    }\n",
              "\n",
              "    .dataframe thead tr:last-of-type th {\n",
              "        text-align: right;\n",
              "    }\n",
              "</style>\n",
              "<table border=\"1\" class=\"dataframe\">\n",
              "  <thead>\n",
              "    <tr>\n",
              "      <th></th>\n",
              "      <th>Активная мощность</th>\n",
              "    </tr>\n",
              "    <tr>\n",
              "      <th></th>\n",
              "      <th>mean</th>\n",
              "    </tr>\n",
              "    <tr>\n",
              "      <th>key</th>\n",
              "      <th></th>\n",
              "    </tr>\n",
              "  </thead>\n",
              "  <tbody>\n",
              "    <tr>\n",
              "      <th>1</th>\n",
              "      <td>0.975629</td>\n",
              "    </tr>\n",
              "    <tr>\n",
              "      <th>2</th>\n",
              "      <td>0.763150</td>\n",
              "    </tr>\n",
              "    <tr>\n",
              "      <th>3</th>\n",
              "      <td>0.505176</td>\n",
              "    </tr>\n",
              "    <tr>\n",
              "      <th>4</th>\n",
              "      <td>0.802313</td>\n",
              "    </tr>\n",
              "    <tr>\n",
              "      <th>5</th>\n",
              "      <td>0.836793</td>\n",
              "    </tr>\n",
              "    <tr>\n",
              "      <th>...</th>\n",
              "      <td>...</td>\n",
              "    </tr>\n",
              "    <tr>\n",
              "      <th>3237</th>\n",
              "      <td>0.786493</td>\n",
              "    </tr>\n",
              "    <tr>\n",
              "      <th>3238</th>\n",
              "      <td>0.702176</td>\n",
              "    </tr>\n",
              "    <tr>\n",
              "      <th>3239</th>\n",
              "      <td>0.583344</td>\n",
              "    </tr>\n",
              "    <tr>\n",
              "      <th>3240</th>\n",
              "      <td>0.596817</td>\n",
              "    </tr>\n",
              "    <tr>\n",
              "      <th>3241</th>\n",
              "      <td>0.494289</td>\n",
              "    </tr>\n",
              "  </tbody>\n",
              "</table>\n",
              "<p>3214 rows × 1 columns</p>\n",
              "</div>"
            ],
            "text/plain": [
              "     Активная мощность\n",
              "                  mean\n",
              "key                   \n",
              "1             0.975629\n",
              "2             0.763150\n",
              "3             0.505176\n",
              "4             0.802313\n",
              "5             0.836793\n",
              "...                ...\n",
              "3237          0.786493\n",
              "3238          0.702176\n",
              "3239          0.583344\n",
              "3240          0.596817\n",
              "3241          0.494289\n",
              "\n",
              "[3214 rows x 1 columns]"
            ]
          },
          "metadata": {},
          "output_type": "display_data"
        }
      ],
      "source": [
        "agg_func_math = {\n",
        "    'Активная мощность': ['mean']\n",
        "}\n",
        "data_energy = data_arc.groupby(['key']).agg(agg_func_math)\n",
        "display(data_energy)"
      ]
    },
    {
      "cell_type": "code",
      "execution_count": null,
      "id": "2ca4a2e8",
      "metadata": {
        "id": "2ca4a2e8"
      },
      "outputs": [],
      "source": [
        "#объединим то, что получилось\n",
        "df_arc = data_electrode_heating_sum.merge(data_energy, on='key', how='outer')"
      ]
    },
    {
      "cell_type": "code",
      "execution_count": null,
      "id": "b0518eef",
      "metadata": {
        "id": "b0518eef"
      },
      "outputs": [],
      "source": [
        "df_arc.columns = ['electrode_heating_sum', 'energy_mean']"
      ]
    },
    {
      "cell_type": "code",
      "execution_count": null,
      "id": "9cd2eeb1",
      "metadata": {
        "id": "9cd2eeb1",
        "outputId": "837f455e-81b4-416a-9884-dbffcdacf25c"
      },
      "outputs": [
        {
          "data": {
            "text/plain": [
              "key                0\n",
              "Время замера       0\n",
              "Температура     2901\n",
              "dtype: int64"
            ]
          },
          "execution_count": 25,
          "metadata": {},
          "output_type": "execute_result"
        }
      ],
      "source": [
        "#посчитаем пропуски\n",
        "data_temp.isna().sum()"
      ]
    },
    {
      "cell_type": "code",
      "execution_count": null,
      "id": "9a71cf3d",
      "metadata": {
        "id": "9a71cf3d",
        "outputId": "2b9062c2-8f38-47bc-c7cc-bcda467da94f"
      },
      "outputs": [
        {
          "data": {
            "image/png": "[encoded data removed]",
            "text/plain": [
              "<Figure size 432x288 with 1 Axes>"
            ]
          },
          "metadata": {
            "needs_background": "light"
          },
          "output_type": "display_data"
        }
      ],
      "source": [
        "#посмотрим на выбросы\n",
        "df_temp = sns.boxplot(x=data_temp[\"Температура\"])"
      ]
    },
    {
      "cell_type": "markdown",
      "id": "4264c239",
      "metadata": {
        "id": "4264c239"
      },
      "source": [
        "Есть выбивающиеся значения, которые достаточно далеки от температуры плавления стали (1400 С), но на данном этапе я пока ничего с ними не делаю."
      ]
    },
    {
      "cell_type": "code",
      "execution_count": null,
      "id": "f021f725",
      "metadata": {
        "id": "f021f725"
      },
      "outputs": [],
      "source": [
        "#изменим тип данных\n",
        "data_temp['Время замера'] = pd.to_datetime(data_temp['Время замера'])"
      ]
    },
    {
      "cell_type": "code",
      "execution_count": null,
      "id": "a96f6749",
      "metadata": {
        "id": "a96f6749"
      },
      "outputs": [],
      "source": [
        "#посчитаем промежуток между первым и последним замером температуры\n",
        "data_temp[\"Длительность\"] = \\\n",
        "    (data_temp\n",
        "     .groupby(\"key\")\n",
        "     [\"Время замера\"]\n",
        "     .transform(lambda x: x.max() - x.min()))"
      ]
    },
    {
      "cell_type": "code",
      "execution_count": null,
      "id": "33bc3f1f",
      "metadata": {
        "id": "33bc3f1f",
        "outputId": "5f90fc55-4a1d-4fbc-a686-245dbadd0cd6"
      },
      "outputs": [
        {
          "data": {
            "text/html": [
              "<div>\n",
              "<style scoped>\n",
              "    .dataframe tbody tr th:only-of-type {\n",
              "        vertical-align: middle;\n",
              "    }\n",
              "\n",
              "    .dataframe tbody tr th {\n",
              "        vertical-align: top;\n",
              "    }\n",
              "\n",
              "    .dataframe thead tr th {\n",
              "        text-align: left;\n",
              "    }\n",
              "\n",
              "    .dataframe thead tr:last-of-type th {\n",
              "        text-align: right;\n",
              "    }\n",
              "</style>\n",
              "<table border=\"1\" class=\"dataframe\">\n",
              "  <thead>\n",
              "    <tr>\n",
              "      <th></th>\n",
              "      <th>Длительность</th>\n",
              "    </tr>\n",
              "    <tr>\n",
              "      <th></th>\n",
              "      <th>first</th>\n",
              "    </tr>\n",
              "    <tr>\n",
              "      <th>key</th>\n",
              "      <th></th>\n",
              "    </tr>\n",
              "  </thead>\n",
              "  <tbody>\n",
              "    <tr>\n",
              "      <th>1</th>\n",
              "      <td>0 days 00:14:21</td>\n",
              "    </tr>\n",
              "    <tr>\n",
              "      <th>2</th>\n",
              "      <td>0 days 00:21:45</td>\n",
              "    </tr>\n",
              "    <tr>\n",
              "      <th>3</th>\n",
              "      <td>0 days 00:21:40</td>\n",
              "    </tr>\n",
              "    <tr>\n",
              "      <th>4</th>\n",
              "      <td>0 days 00:06:28</td>\n",
              "    </tr>\n",
              "    <tr>\n",
              "      <th>5</th>\n",
              "      <td>0 days 00:12:42</td>\n",
              "    </tr>\n",
              "    <tr>\n",
              "      <th>...</th>\n",
              "      <td>...</td>\n",
              "    </tr>\n",
              "    <tr>\n",
              "      <th>3237</th>\n",
              "      <td>0 days 00:21:39</td>\n",
              "    </tr>\n",
              "    <tr>\n",
              "      <th>3238</th>\n",
              "      <td>0 days 00:12:29</td>\n",
              "    </tr>\n",
              "    <tr>\n",
              "      <th>3239</th>\n",
              "      <td>0 days 00:52:28</td>\n",
              "    </tr>\n",
              "    <tr>\n",
              "      <th>3240</th>\n",
              "      <td>0 days 00:56:15</td>\n",
              "    </tr>\n",
              "    <tr>\n",
              "      <th>3241</th>\n",
              "      <td>0 days 00:34:38</td>\n",
              "    </tr>\n",
              "  </tbody>\n",
              "</table>\n",
              "<p>3216 rows × 1 columns</p>\n",
              "</div>"
            ],
            "text/plain": [
              "        Длительность\n",
              "               first\n",
              "key                 \n",
              "1    0 days 00:14:21\n",
              "2    0 days 00:21:45\n",
              "3    0 days 00:21:40\n",
              "4    0 days 00:06:28\n",
              "5    0 days 00:12:42\n",
              "...              ...\n",
              "3237 0 days 00:21:39\n",
              "3238 0 days 00:12:29\n",
              "3239 0 days 00:52:28\n",
              "3240 0 days 00:56:15\n",
              "3241 0 days 00:34:38\n",
              "\n",
              "[3216 rows x 1 columns]"
            ]
          },
          "metadata": {},
          "output_type": "display_data"
        }
      ],
      "source": [
        "#оставим 1 строку для каждой партии\n",
        "agg_func_math = {\n",
        "    'Длительность': ['first']\n",
        "}\n",
        "data_dur = data_temp.groupby(['key']).agg(agg_func_math)\n",
        "display(data_dur)"
      ]
    },
    {
      "cell_type": "code",
      "execution_count": null,
      "id": "2a7303f4",
      "metadata": {
        "id": "2a7303f4"
      },
      "outputs": [],
      "source": [
        "#назовем столбец\n",
        "data_dur.columns = ['duration']"
      ]
    },
    {
      "cell_type": "code",
      "execution_count": null,
      "id": "c1c44e75",
      "metadata": {
        "id": "c1c44e75"
      },
      "outputs": [],
      "source": [
        "#посчитаем время в секндах\n",
        "data_dur['duration'] = data_dur['duration'].dt.total_seconds()"
      ]
    },
    {
      "cell_type": "code",
      "execution_count": null,
      "id": "66251691",
      "metadata": {
        "id": "66251691"
      },
      "outputs": [],
      "source": [
        "#избавимся от отсутствующих значений\n",
        "data_temp_full = data_temp.dropna()"
      ]
    },
    {
      "cell_type": "code",
      "execution_count": null,
      "id": "714ac97d",
      "metadata": {
        "id": "714ac97d",
        "outputId": "ab5b6de8-34a4-474d-e96d-29da9898e754"
      },
      "outputs": [
        {
          "name": "stdout",
          "output_type": "stream",
          "text": [
            "<class 'pandas.core.frame.DataFrame'>\n",
            "Int64Index: 13006 entries, 0 to 15902\n",
            "Data columns (total 4 columns):\n",
            " #   Column        Non-Null Count  Dtype          \n",
            "---  ------        --------------  -----          \n",
            " 0   key           13006 non-null  int64          \n",
            " 1   Время замера  13006 non-null  datetime64[ns] \n",
            " 2   Температура   13006 non-null  float64        \n",
            " 3   Длительность  13006 non-null  timedelta64[ns]\n",
            "dtypes: datetime64[ns](1), float64(1), int64(1), timedelta64[ns](1)\n",
            "memory usage: 508.0 KB\n"
          ]
        }
      ],
      "source": [
        "data_temp_full.info()"
      ]
    },
    {
      "cell_type": "code",
      "execution_count": null,
      "id": "4fca3d67",
      "metadata": {
        "id": "4fca3d67",
        "outputId": "a27ff01d-d6fa-4e5d-c410-7f83d7958567"
      },
      "outputs": [
        {
          "data": {
            "text/html": [
              "<div>\n",
              "<style scoped>\n",
              "    .dataframe tbody tr th:only-of-type {\n",
              "        vertical-align: middle;\n",
              "    }\n",
              "\n",
              "    .dataframe tbody tr th {\n",
              "        vertical-align: top;\n",
              "    }\n",
              "\n",
              "    .dataframe thead tr th {\n",
              "        text-align: left;\n",
              "    }\n",
              "\n",
              "    .dataframe thead tr:last-of-type th {\n",
              "        text-align: right;\n",
              "    }\n",
              "</style>\n",
              "<table border=\"1\" class=\"dataframe\">\n",
              "  <thead>\n",
              "    <tr>\n",
              "      <th></th>\n",
              "      <th>Время замера</th>\n",
              "    </tr>\n",
              "    <tr>\n",
              "      <th></th>\n",
              "      <th>max</th>\n",
              "    </tr>\n",
              "    <tr>\n",
              "      <th>key</th>\n",
              "      <th></th>\n",
              "    </tr>\n",
              "  </thead>\n",
              "  <tbody>\n",
              "    <tr>\n",
              "      <th>1</th>\n",
              "      <td>2019-05-03 11:30:39</td>\n",
              "    </tr>\n",
              "    <tr>\n",
              "      <th>2</th>\n",
              "      <td>2019-05-03 11:59:12</td>\n",
              "    </tr>\n",
              "    <tr>\n",
              "      <th>3</th>\n",
              "      <td>2019-05-03 12:34:57</td>\n",
              "    </tr>\n",
              "    <tr>\n",
              "      <th>4</th>\n",
              "      <td>2019-05-03 12:59:25</td>\n",
              "    </tr>\n",
              "    <tr>\n",
              "      <th>5</th>\n",
              "      <td>2019-05-03 13:36:01</td>\n",
              "    </tr>\n",
              "    <tr>\n",
              "      <th>...</th>\n",
              "      <td>...</td>\n",
              "    </tr>\n",
              "    <tr>\n",
              "      <th>3237</th>\n",
              "      <td>2019-08-31 22:44:04</td>\n",
              "    </tr>\n",
              "    <tr>\n",
              "      <th>3238</th>\n",
              "      <td>2019-08-31 23:30:31</td>\n",
              "    </tr>\n",
              "    <tr>\n",
              "      <th>3239</th>\n",
              "      <td>2019-09-01 01:31:47</td>\n",
              "    </tr>\n",
              "    <tr>\n",
              "      <th>3240</th>\n",
              "      <td>2019-09-01 02:39:01</td>\n",
              "    </tr>\n",
              "    <tr>\n",
              "      <th>3241</th>\n",
              "      <td>2019-09-01 04:03:30</td>\n",
              "    </tr>\n",
              "  </tbody>\n",
              "</table>\n",
              "<p>3216 rows × 1 columns</p>\n",
              "</div>"
            ],
            "text/plain": [
              "            Время замера\n",
              "                     max\n",
              "key                     \n",
              "1    2019-05-03 11:30:39\n",
              "2    2019-05-03 11:59:12\n",
              "3    2019-05-03 12:34:57\n",
              "4    2019-05-03 12:59:25\n",
              "5    2019-05-03 13:36:01\n",
              "...                  ...\n",
              "3237 2019-08-31 22:44:04\n",
              "3238 2019-08-31 23:30:31\n",
              "3239 2019-09-01 01:31:47\n",
              "3240 2019-09-01 02:39:01\n",
              "3241 2019-09-01 04:03:30\n",
              "\n",
              "[3216 rows x 1 columns]"
            ]
          },
          "metadata": {},
          "output_type": "display_data"
        }
      ],
      "source": [
        "#посмотрим на последнее время замера\n",
        "agg_func_math = {\n",
        "    'Время замера': ['max']\n",
        "}\n",
        "data_temp_max = data_temp_full.groupby(['key']).agg(agg_func_math)\n",
        "display(data_temp_max)"
      ]
    },
    {
      "cell_type": "code",
      "execution_count": null,
      "id": "9b5626f8",
      "metadata": {
        "id": "9b5626f8",
        "outputId": "73f58fc4-4b55-4ba0-b340-0a06f30311a0"
      },
      "outputs": [
        {
          "data": {
            "text/html": [
              "<div>\n",
              "<style scoped>\n",
              "    .dataframe tbody tr th:only-of-type {\n",
              "        vertical-align: middle;\n",
              "    }\n",
              "\n",
              "    .dataframe tbody tr th {\n",
              "        vertical-align: top;\n",
              "    }\n",
              "\n",
              "    .dataframe thead tr th {\n",
              "        text-align: left;\n",
              "    }\n",
              "\n",
              "    .dataframe thead tr:last-of-type th {\n",
              "        text-align: right;\n",
              "    }\n",
              "</style>\n",
              "<table border=\"1\" class=\"dataframe\">\n",
              "  <thead>\n",
              "    <tr>\n",
              "      <th></th>\n",
              "      <th colspan=\"2\" halign=\"left\">Температура</th>\n",
              "    </tr>\n",
              "    <tr>\n",
              "      <th></th>\n",
              "      <th>first</th>\n",
              "      <th>last</th>\n",
              "    </tr>\n",
              "    <tr>\n",
              "      <th>key</th>\n",
              "      <th></th>\n",
              "      <th></th>\n",
              "    </tr>\n",
              "  </thead>\n",
              "  <tbody>\n",
              "    <tr>\n",
              "      <th>1</th>\n",
              "      <td>1571.0</td>\n",
              "      <td>1613.0</td>\n",
              "    </tr>\n",
              "    <tr>\n",
              "      <th>2</th>\n",
              "      <td>1581.0</td>\n",
              "      <td>1602.0</td>\n",
              "    </tr>\n",
              "    <tr>\n",
              "      <th>3</th>\n",
              "      <td>1596.0</td>\n",
              "      <td>1599.0</td>\n",
              "    </tr>\n",
              "    <tr>\n",
              "      <th>4</th>\n",
              "      <td>1601.0</td>\n",
              "      <td>1625.0</td>\n",
              "    </tr>\n",
              "    <tr>\n",
              "      <th>5</th>\n",
              "      <td>1576.0</td>\n",
              "      <td>1602.0</td>\n",
              "    </tr>\n",
              "    <tr>\n",
              "      <th>...</th>\n",
              "      <td>...</td>\n",
              "      <td>...</td>\n",
              "    </tr>\n",
              "    <tr>\n",
              "      <th>3237</th>\n",
              "      <td>1569.0</td>\n",
              "      <td>1569.0</td>\n",
              "    </tr>\n",
              "    <tr>\n",
              "      <th>3238</th>\n",
              "      <td>1584.0</td>\n",
              "      <td>1584.0</td>\n",
              "    </tr>\n",
              "    <tr>\n",
              "      <th>3239</th>\n",
              "      <td>1598.0</td>\n",
              "      <td>1598.0</td>\n",
              "    </tr>\n",
              "    <tr>\n",
              "      <th>3240</th>\n",
              "      <td>1617.0</td>\n",
              "      <td>1617.0</td>\n",
              "    </tr>\n",
              "    <tr>\n",
              "      <th>3241</th>\n",
              "      <td>1586.0</td>\n",
              "      <td>1586.0</td>\n",
              "    </tr>\n",
              "  </tbody>\n",
              "</table>\n",
              "<p>3216 rows × 2 columns</p>\n",
              "</div>"
            ],
            "text/plain": [
              "     Температура        \n",
              "           first    last\n",
              "key                     \n",
              "1         1571.0  1613.0\n",
              "2         1581.0  1602.0\n",
              "3         1596.0  1599.0\n",
              "4         1601.0  1625.0\n",
              "5         1576.0  1602.0\n",
              "...          ...     ...\n",
              "3237      1569.0  1569.0\n",
              "3238      1584.0  1584.0\n",
              "3239      1598.0  1598.0\n",
              "3240      1617.0  1617.0\n",
              "3241      1586.0  1586.0\n",
              "\n",
              "[3216 rows x 2 columns]"
            ]
          },
          "metadata": {},
          "output_type": "display_data"
        }
      ],
      "source": [
        "#выберем первую и последнюю температуру\n",
        "agg_func_math = {\n",
        "    'Температура': ['first', 'last']\n",
        "}\n",
        "data_temp_last = data_temp_full.groupby(['key']).agg(agg_func_math)\n",
        "display(data_temp_last)"
      ]
    },
    {
      "cell_type": "code",
      "execution_count": null,
      "id": "206831e0",
      "metadata": {
        "id": "206831e0"
      },
      "outputs": [],
      "source": [
        "#назовем столбцы\n",
        "data_temp_max.columns = ['data_temp_max']\n",
        "data_temp_last.columns = ['data_temp_first', 'data_temp_last']"
      ]
    },
    {
      "cell_type": "code",
      "execution_count": null,
      "id": "8ad495a9",
      "metadata": {
        "id": "8ad495a9"
      },
      "outputs": [],
      "source": [
        "#объединим таблицы\n",
        "data_temp_complete = data_temp_max.merge(data_temp_last, on=['key'], how='outer')"
      ]
    },
    {
      "cell_type": "code",
      "execution_count": null,
      "id": "b580a8ac",
      "metadata": {
        "id": "b580a8ac",
        "outputId": "88dbdce1-54a2-49e8-efa7-e95751b5244c"
      },
      "outputs": [
        {
          "data": {
            "image/png": "[encoded data removed]",
            "text/plain": [
              "<Figure size 432x288 with 1 Axes>"
            ]
          },
          "metadata": {
            "needs_background": "light"
          },
          "output_type": "display_data"
        }
      ],
      "source": [
        "data_gas_box = sns.boxplot(x=data_gas['Газ 1'])"
      ]
    },
    {
      "cell_type": "markdown",
      "id": "d42bcce1",
      "metadata": {
        "id": "d42bcce1"
      },
      "source": [
        "Есть выбросы, думаю, избавиться от значений больше 25."
      ]
    },
    {
      "cell_type": "code",
      "execution_count": null,
      "id": "0a243b7c",
      "metadata": {
        "id": "0a243b7c"
      },
      "outputs": [],
      "source": [
        "data_gas = data_gas[(data_gas['Газ 1'] < 25)]"
      ]
    },
    {
      "cell_type": "code",
      "execution_count": null,
      "id": "96214ab6",
      "metadata": {
        "id": "96214ab6"
      },
      "outputs": [],
      "source": [
        "data_gas.columns = ['key', 'gas'] #назовем столбцы, чтобы все было в едином стиле"
      ]
    },
    {
      "cell_type": "code",
      "execution_count": null,
      "id": "eaa8cae3",
      "metadata": {
        "id": "eaa8cae3"
      },
      "outputs": [],
      "source": [
        "#посчитаем суммарный объем добавок к каждой партии\n",
        "data_bulk_sum = data_bulk[['key']].join(data_bulk.drop('key', 1).sum(axis=1).rename('sum'))"
      ]
    },
    {
      "cell_type": "code",
      "execution_count": null,
      "id": "41252811",
      "metadata": {
        "id": "41252811"
      },
      "outputs": [],
      "source": [
        "data_bulk_sum.columns = ['key','data_bulk_sum'] #назовем столбцы"
      ]
    },
    {
      "cell_type": "code",
      "execution_count": null,
      "id": "fcdddac2",
      "metadata": {
        "id": "fcdddac2",
        "outputId": "db32c212-23ed-4896-f18f-b43001457a9e"
      },
      "outputs": [
        {
          "data": {
            "image/png": "[encoded data removed]",
            "text/plain": [
              "<Figure size 432x288 with 1 Axes>"
            ]
          },
          "metadata": {
            "needs_background": "light"
          },
          "output_type": "display_data"
        }
      ],
      "source": [
        "data_bulks = sns.boxplot(x=data_bulk_sum['data_bulk_sum'])"
      ]
    },
    {
      "cell_type": "markdown",
      "id": "4bf64b56",
      "metadata": {
        "id": "4bf64b56"
      },
      "source": [
        "Как следует из диаграммы, выбросы составляют значения больше 1300"
      ]
    },
    {
      "cell_type": "code",
      "execution_count": null,
      "id": "e1ec8f81",
      "metadata": {
        "id": "e1ec8f81"
      },
      "outputs": [],
      "source": [
        "data_bulk_sum = data_bulk_sum[(data_bulk_sum['data_bulk_sum'] < 1300)]"
      ]
    },
    {
      "cell_type": "code",
      "execution_count": null,
      "id": "82390bd4",
      "metadata": {
        "id": "82390bd4"
      },
      "outputs": [],
      "source": [
        "#посчитаем суммарный объем проволочных материалов для каждой партии\n",
        "data_wire_sum = data_wire[['key']].join(data_wire.drop('key', 1).sum(axis=1).rename('sum'))"
      ]
    },
    {
      "cell_type": "code",
      "execution_count": null,
      "id": "c8c33ed1",
      "metadata": {
        "id": "c8c33ed1"
      },
      "outputs": [],
      "source": [
        "data_wire_sum.columns = ['key','data_wire_sum'] "
      ]
    },
    {
      "cell_type": "code",
      "execution_count": null,
      "id": "3868712b",
      "metadata": {
        "id": "3868712b",
        "outputId": "9a2b60ea-1ea7-42de-d3f2-04e874a56dd0"
      },
      "outputs": [
        {
          "data": {
            "image/png": "[encoded data removed]",
            "text/plain": [
              "<Figure size 432x288 with 1 Axes>"
            ]
          },
          "metadata": {
            "needs_background": "light"
          },
          "output_type": "display_data"
        }
      ],
      "source": [
        "data_wires = sns.boxplot(x=data_wire_sum['data_wire_sum'])"
      ]
    },
    {
      "cell_type": "markdown",
      "id": "c712bbcb",
      "metadata": {
        "id": "c712bbcb"
      },
      "source": [
        "Отбросим значения больше 300."
      ]
    },
    {
      "cell_type": "code",
      "execution_count": null,
      "id": "21219621",
      "metadata": {
        "id": "21219621"
      },
      "outputs": [],
      "source": [
        "data_wire_sum = data_wire_sum[(data_wire_sum['data_wire_sum'] < 300)]"
      ]
    },
    {
      "cell_type": "code",
      "execution_count": null,
      "id": "5a29ba08",
      "metadata": {
        "id": "5a29ba08"
      },
      "outputs": [],
      "source": [
        "#объединим таблицы\n",
        "data_bulk_wire = data_bulk_sum.merge(data_wire_sum, on=['key'], how='outer').reset_index(drop=True)"
      ]
    },
    {
      "cell_type": "code",
      "execution_count": null,
      "id": "a4b46533",
      "metadata": {
        "id": "a4b46533"
      },
      "outputs": [],
      "source": [
        "data_complete = data_bulk_wire.merge(data_gas, on=['key'], how='outer').reset_index(drop=True)"
      ]
    },
    {
      "cell_type": "code",
      "execution_count": null,
      "id": "30124250",
      "metadata": {
        "id": "30124250"
      },
      "outputs": [],
      "source": [
        "df_comp= data_complete.merge(data_dur, on='key', how='outer').reset_index(drop=True)"
      ]
    },
    {
      "cell_type": "code",
      "execution_count": null,
      "id": "1a44baf6",
      "metadata": {
        "id": "1a44baf6"
      },
      "outputs": [],
      "source": [
        "df_0 = df_comp.merge(data_temp_complete, on=['key'], how='outer').reset_index(drop=True)"
      ]
    },
    {
      "cell_type": "code",
      "execution_count": null,
      "id": "73ea115a",
      "metadata": {
        "id": "73ea115a",
        "outputId": "09e486c4-627e-4fdb-ab26-29fa498b529d"
      },
      "outputs": [
        {
          "name": "stdout",
          "output_type": "stream",
          "text": [
            "<class 'pandas.core.frame.DataFrame'>\n",
            "RangeIndex: 2458 entries, 0 to 2457\n",
            "Data columns (total 8 columns):\n",
            " #   Column           Non-Null Count  Dtype         \n",
            "---  ------           --------------  -----         \n",
            " 0   key              2458 non-null   int64         \n",
            " 1   data_bulk_sum    2345 non-null   float64       \n",
            " 2   data_wire_sum    2294 non-null   float64       \n",
            " 3   gas              2370 non-null   float64       \n",
            " 4   duration         2433 non-null   float64       \n",
            " 5   data_temp_max    2433 non-null   datetime64[ns]\n",
            " 6   data_temp_first  2433 non-null   float64       \n",
            " 7   data_temp_last   2433 non-null   float64       \n",
            "dtypes: datetime64[ns](1), float64(6), int64(1)\n",
            "memory usage: 153.8 KB\n"
          ]
        }
      ],
      "source": [
        "#удалим значения, в которых первая температура - это последняя температура\n",
        "df_dropped = df_0[(df_0['data_temp_first'] != df_0['data_temp_last'])].reset_index(drop=True)\n",
        "\n",
        "df_dropped.info()"
      ]
    },
    {
      "cell_type": "code",
      "execution_count": null,
      "id": "5ad56350",
      "metadata": {
        "id": "5ad56350"
      },
      "outputs": [],
      "source": [
        "df_1=df_dropped.drop(['data_temp_max'], axis=1)"
      ]
    },
    {
      "cell_type": "code",
      "execution_count": null,
      "id": "a0add25e",
      "metadata": {
        "id": "a0add25e"
      },
      "outputs": [],
      "source": [
        "df_2=df_1.merge(df_arc, on='key', how='outer')"
      ]
    },
    {
      "cell_type": "code",
      "execution_count": null,
      "id": "cb84bc9e",
      "metadata": {
        "id": "cb84bc9e",
        "outputId": "a902094c-fdae-45f4-b0e8-b6717badaf4a"
      },
      "outputs": [
        {
          "name": "stdout",
          "output_type": "stream",
          "text": [
            "<class 'pandas.core.frame.DataFrame'>\n",
            "Int64Index: 2155 entries, 1 to 2344\n",
            "Data columns (total 9 columns):\n",
            " #   Column                 Non-Null Count  Dtype  \n",
            "---  ------                 --------------  -----  \n",
            " 0   key                    2155 non-null   int64  \n",
            " 1   data_bulk_sum          2155 non-null   float64\n",
            " 2   data_wire_sum          2155 non-null   float64\n",
            " 3   gas                    2155 non-null   float64\n",
            " 4   duration               2155 non-null   float64\n",
            " 5   data_temp_first        2155 non-null   float64\n",
            " 6   data_temp_last         2155 non-null   float64\n",
            " 7   electrode_heating_sum  2155 non-null   float64\n",
            " 8   energy_mean            2155 non-null   float64\n",
            "dtypes: float64(8), int64(1)\n",
            "memory usage: 168.4 KB\n"
          ]
        }
      ],
      "source": [
        "#после всех объединений избавимся от пропусков\n",
        "df=df_2.dropna()\n",
        "df.info()"
      ]
    },
    {
      "cell_type": "code",
      "execution_count": null,
      "id": "fc7d8810",
      "metadata": {
        "id": "fc7d8810"
      },
      "outputs": [],
      "source": [
        "df=df.drop(['key'], axis=1)"
      ]
    },
    {
      "cell_type": "code",
      "execution_count": null,
      "id": "9183557f",
      "metadata": {
        "id": "9183557f",
        "outputId": "51733f4f-d3f9-4272-8154-8d54b02b073f"
      },
      "outputs": [
        {
          "data": {
            "text/html": [
              "<div>\n",
              "<style scoped>\n",
              "    .dataframe tbody tr th:only-of-type {\n",
              "        vertical-align: middle;\n",
              "    }\n",
              "\n",
              "    .dataframe tbody tr th {\n",
              "        vertical-align: top;\n",
              "    }\n",
              "\n",
              "    .dataframe thead th {\n",
              "        text-align: right;\n",
              "    }\n",
              "</style>\n",
              "<table border=\"1\" class=\"dataframe\">\n",
              "  <thead>\n",
              "    <tr style=\"text-align: right;\">\n",
              "      <th></th>\n",
              "      <th>data_bulk_sum</th>\n",
              "      <th>data_wire_sum</th>\n",
              "      <th>gas</th>\n",
              "      <th>duration</th>\n",
              "      <th>data_temp_first</th>\n",
              "      <th>data_temp_last</th>\n",
              "      <th>electrode_heating_sum</th>\n",
              "      <th>energy_mean</th>\n",
              "    </tr>\n",
              "  </thead>\n",
              "  <tbody>\n",
              "    <tr>\n",
              "      <th>count</th>\n",
              "      <td>2155.000000</td>\n",
              "      <td>2155.000000</td>\n",
              "      <td>2155.000000</td>\n",
              "      <td>2155.000000</td>\n",
              "      <td>2155.000000</td>\n",
              "      <td>2155.000000</td>\n",
              "      <td>2155.000000</td>\n",
              "      <td>2155.000000</td>\n",
              "    </tr>\n",
              "    <tr>\n",
              "      <th>mean</th>\n",
              "      <td>599.730394</td>\n",
              "      <td>119.039951</td>\n",
              "      <td>10.538794</td>\n",
              "      <td>1806.611601</td>\n",
              "      <td>1586.373086</td>\n",
              "      <td>1593.276102</td>\n",
              "      <td>789.828306</td>\n",
              "      <td>0.666448</td>\n",
              "    </tr>\n",
              "    <tr>\n",
              "      <th>std</th>\n",
              "      <td>271.402373</td>\n",
              "      <td>49.762035</td>\n",
              "      <td>4.828511</td>\n",
              "      <td>1015.727547</td>\n",
              "      <td>28.436314</td>\n",
              "      <td>10.897188</td>\n",
              "      <td>317.555429</td>\n",
              "      <td>0.196811</td>\n",
              "    </tr>\n",
              "    <tr>\n",
              "      <th>min</th>\n",
              "      <td>19.000000</td>\n",
              "      <td>1.918800</td>\n",
              "      <td>0.008399</td>\n",
              "      <td>234.000000</td>\n",
              "      <td>1191.000000</td>\n",
              "      <td>1545.000000</td>\n",
              "      <td>57.000000</td>\n",
              "      <td>0.186226</td>\n",
              "    </tr>\n",
              "    <tr>\n",
              "      <th>25%</th>\n",
              "      <td>440.000000</td>\n",
              "      <td>87.172801</td>\n",
              "      <td>7.154428</td>\n",
              "      <td>1196.500000</td>\n",
              "      <td>1571.000000</td>\n",
              "      <td>1587.000000</td>\n",
              "      <td>573.000000</td>\n",
              "      <td>0.523828</td>\n",
              "    </tr>\n",
              "    <tr>\n",
              "      <th>50%</th>\n",
              "      <td>607.000000</td>\n",
              "      <td>114.368799</td>\n",
              "      <td>9.857191</td>\n",
              "      <td>1589.000000</td>\n",
              "      <td>1586.000000</td>\n",
              "      <td>1593.000000</td>\n",
              "      <td>767.000000</td>\n",
              "      <td>0.640897</td>\n",
              "    </tr>\n",
              "    <tr>\n",
              "      <th>75%</th>\n",
              "      <td>781.500000</td>\n",
              "      <td>149.149515</td>\n",
              "      <td>13.499086</td>\n",
              "      <td>2225.000000</td>\n",
              "      <td>1603.000000</td>\n",
              "      <td>1598.000000</td>\n",
              "      <td>973.000000</td>\n",
              "      <td>0.788870</td>\n",
              "    </tr>\n",
              "    <tr>\n",
              "      <th>max</th>\n",
              "      <td>1290.000000</td>\n",
              "      <td>295.364159</td>\n",
              "      <td>24.989361</td>\n",
              "      <td>16669.000000</td>\n",
              "      <td>1660.000000</td>\n",
              "      <td>1653.000000</td>\n",
              "      <td>2919.000000</td>\n",
              "      <td>1.421416</td>\n",
              "    </tr>\n",
              "  </tbody>\n",
              "</table>\n",
              "</div>"
            ],
            "text/plain": [
              "       data_bulk_sum  data_wire_sum          gas      duration  \\\n",
              "count    2155.000000    2155.000000  2155.000000   2155.000000   \n",
              "mean      599.730394     119.039951    10.538794   1806.611601   \n",
              "std       271.402373      49.762035     4.828511   1015.727547   \n",
              "min        19.000000       1.918800     0.008399    234.000000   \n",
              "25%       440.000000      87.172801     7.154428   1196.500000   \n",
              "50%       607.000000     114.368799     9.857191   1589.000000   \n",
              "75%       781.500000     149.149515    13.499086   2225.000000   \n",
              "max      1290.000000     295.364159    24.989361  16669.000000   \n",
              "\n",
              "       data_temp_first  data_temp_last  electrode_heating_sum  energy_mean  \n",
              "count      2155.000000     2155.000000            2155.000000  2155.000000  \n",
              "mean       1586.373086     1593.276102             789.828306     0.666448  \n",
              "std          28.436314       10.897188             317.555429     0.196811  \n",
              "min        1191.000000     1545.000000              57.000000     0.186226  \n",
              "25%        1571.000000     1587.000000             573.000000     0.523828  \n",
              "50%        1586.000000     1593.000000             767.000000     0.640897  \n",
              "75%        1603.000000     1598.000000             973.000000     0.788870  \n",
              "max        1660.000000     1653.000000            2919.000000     1.421416  "
            ]
          },
          "execution_count": 58,
          "metadata": {},
          "output_type": "execute_result"
        }
      ],
      "source": [
        "df.describe()"
      ]
    },
    {
      "cell_type": "code",
      "execution_count": null,
      "id": "53430fdd",
      "metadata": {
        "id": "53430fdd",
        "outputId": "a05c4567-873c-42fc-f826-b7c0000f860d"
      },
      "outputs": [
        {
          "name": "stdout",
          "output_type": "stream",
          "text": [
            "1614.5\n",
            "1570.5\n"
          ]
        }
      ],
      "source": [
        "#используем IQR метод, чтобы избавиться от выбросов. Т.К. data_temp_last у нас является целевым признаком, \n",
        "#будем отталкиваться от значений именно этого столбца, чтобы исключить выбросы\n",
        "IQR = 1598-1587\n",
        "upper_bound=(1.5*IQR)+1598\n",
        "lower_bound=1587-(1.5*IQR)\n",
        "print(upper_bound)\n",
        "print(lower_bound)"
      ]
    },
    {
      "cell_type": "code",
      "execution_count": null,
      "id": "3b24a2ca",
      "metadata": {
        "id": "3b24a2ca",
        "outputId": "aeb239bc-c02c-4bbb-a02a-244aaae729fd"
      },
      "outputs": [
        {
          "name": "stdout",
          "output_type": "stream",
          "text": [
            "<class 'pandas.core.frame.DataFrame'>\n",
            "Int64Index: 2001 entries, 1 to 2344\n",
            "Data columns (total 8 columns):\n",
            " #   Column                 Non-Null Count  Dtype  \n",
            "---  ------                 --------------  -----  \n",
            " 0   data_bulk_sum          2001 non-null   float64\n",
            " 1   data_wire_sum          2001 non-null   float64\n",
            " 2   gas                    2001 non-null   float64\n",
            " 3   duration               2001 non-null   float64\n",
            " 4   data_temp_first        2001 non-null   float64\n",
            " 5   data_temp_last         2001 non-null   float64\n",
            " 6   electrode_heating_sum  2001 non-null   float64\n",
            " 7   energy_mean            2001 non-null   float64\n",
            "dtypes: float64(8)\n",
            "memory usage: 140.7 KB\n"
          ]
        }
      ],
      "source": [
        "dfs= df[(df['data_temp_last']< upper_bound)&(df['data_temp_last']>lower_bound)]\n",
        "dfs.info()"
      ]
    },
    {
      "cell_type": "code",
      "execution_count": null,
      "id": "35b2b358",
      "metadata": {
        "id": "35b2b358",
        "outputId": "fe339e5f-1007-48f9-c353-4ec9bd11db26"
      },
      "outputs": [
        {
          "data": {
            "image/png": "[encoded data removed]",
            "text/plain": [
              "<Figure size 432x288 with 2 Axes>"
            ]
          },
          "metadata": {
            "needs_background": "light"
          },
          "output_type": "display_data"
        }
      ],
      "source": [
        "#посмотрим на корреляцию\n",
        "dataplot=sns.heatmap(dfs.corr(), cmap=\"YlGnBu\", annot=True)"
      ]
    },
    {
      "cell_type": "markdown",
      "id": "b550d3d5",
      "metadata": {
        "id": "b550d3d5"
      },
      "source": [
        "Есть несколько столбцов с умеренной прямой и непрямой корреляцией."
      ]
    },
    {
      "cell_type": "markdown",
      "id": "2297b8a3",
      "metadata": {
        "id": "2297b8a3"
      },
      "source": [
        "# Создание и обучение моделей"
      ]
    },
    {
      "cell_type": "code",
      "execution_count": null,
      "id": "f27df8ca",
      "metadata": {
        "id": "f27df8ca",
        "outputId": "0f9a837b-26c5-40aa-c6b6-b1fbbe0eac32"
      },
      "outputs": [
        {
          "data": {
            "text/html": [
              "<div>\n",
              "<style scoped>\n",
              "    .dataframe tbody tr th:only-of-type {\n",
              "        vertical-align: middle;\n",
              "    }\n",
              "\n",
              "    .dataframe tbody tr th {\n",
              "        vertical-align: top;\n",
              "    }\n",
              "\n",
              "    .dataframe thead th {\n",
              "        text-align: right;\n",
              "    }\n",
              "</style>\n",
              "<table border=\"1\" class=\"dataframe\">\n",
              "  <thead>\n",
              "    <tr style=\"text-align: right;\">\n",
              "      <th></th>\n",
              "      <th>data_bulk_sum</th>\n",
              "      <th>data_wire_sum</th>\n",
              "      <th>gas</th>\n",
              "      <th>duration</th>\n",
              "      <th>data_temp_first</th>\n",
              "      <th>data_temp_last</th>\n",
              "      <th>electrode_heating_sum</th>\n",
              "      <th>energy_mean</th>\n",
              "    </tr>\n",
              "  </thead>\n",
              "  <tbody>\n",
              "    <tr>\n",
              "      <th>1</th>\n",
              "      <td>582.0</td>\n",
              "      <td>96.052315</td>\n",
              "      <td>12.555561</td>\n",
              "      <td>1305.0</td>\n",
              "      <td>1581.0</td>\n",
              "      <td>1602.0</td>\n",
              "      <td>811.0</td>\n",
              "      <td>0.763150</td>\n",
              "    </tr>\n",
              "    <tr>\n",
              "      <th>4</th>\n",
              "      <td>584.0</td>\n",
              "      <td>98.352796</td>\n",
              "      <td>5.413692</td>\n",
              "      <td>762.0</td>\n",
              "      <td>1576.0</td>\n",
              "      <td>1602.0</td>\n",
              "      <td>869.0</td>\n",
              "      <td>0.836793</td>\n",
              "    </tr>\n",
              "    <tr>\n",
              "      <th>5</th>\n",
              "      <td>676.0</td>\n",
              "      <td>108.224477</td>\n",
              "      <td>11.273392</td>\n",
              "      <td>1385.0</td>\n",
              "      <td>1543.0</td>\n",
              "      <td>1596.0</td>\n",
              "      <td>952.0</td>\n",
              "      <td>0.988777</td>\n",
              "    </tr>\n",
              "  </tbody>\n",
              "</table>\n",
              "</div>"
            ],
            "text/plain": [
              "   data_bulk_sum  data_wire_sum        gas  duration  data_temp_first  \\\n",
              "1          582.0      96.052315  12.555561    1305.0           1581.0   \n",
              "4          584.0      98.352796   5.413692     762.0           1576.0   \n",
              "5          676.0     108.224477  11.273392    1385.0           1543.0   \n",
              "\n",
              "   data_temp_last  electrode_heating_sum  energy_mean  \n",
              "1          1602.0                  811.0     0.763150  \n",
              "4          1602.0                  869.0     0.836793  \n",
              "5          1596.0                  952.0     0.988777  "
            ]
          },
          "execution_count": 62,
          "metadata": {},
          "output_type": "execute_result"
        }
      ],
      "source": [
        "dfs.head(3)"
      ]
    },
    {
      "cell_type": "code",
      "execution_count": null,
      "id": "0af83d65",
      "metadata": {
        "id": "0af83d65"
      },
      "outputs": [],
      "source": [
        "#обозначим целевой признак\n",
        "features = dfs.drop('data_temp_last', axis=1)\n",
        "target = dfs['data_temp_last']"
      ]
    },
    {
      "cell_type": "code",
      "execution_count": null,
      "id": "f6869941",
      "metadata": {
        "id": "f6869941"
      },
      "outputs": [],
      "source": [
        "#отмасштабируем признаки\n",
        "numeric = ['data_bulk_sum', 'data_wire_sum', 'gas', 'duration', 'energy_mean', 'electrode_heating_sum', 'data_temp_first']\n",
        "scaler = StandardScaler()\n",
        "scaler.fit(features[numeric]) \n",
        "features[numeric] = scaler.transform(features[numeric])"
      ]
    },
    {
      "cell_type": "code",
      "execution_count": null,
      "id": "d7107ffc",
      "metadata": {
        "id": "d7107ffc",
        "outputId": "cdfd53fd-2334-4c07-8251-2d441e29ea0b"
      },
      "outputs": [
        {
          "name": "stdout",
          "output_type": "stream",
          "text": [
            "LinearRegression\n",
            "    MAE 5.51\n",
            "\n",
            "DecisionTreeRegressor\n",
            "    MAE 7.06\n",
            "\n",
            "RandomForestRegressor\n",
            "    MAE 5.18\n",
            "\n",
            "XGBRFRegressor\n",
            "    MAE 5.37\n",
            "\n",
            "LGBMRegressor\n",
            "    MAE 5.2\n",
            "\n",
            "GradientBoostingRegressor\n",
            "    MAE 5.15\n",
            "\n",
            "CatBoostRegressor\n",
            "    MAE 5.14\n",
            "\n"
          ]
        }
      ],
      "source": [
        "#обучим модели и проведем кросс-валидацию\n",
        "models = [LinearRegression(), DecisionTreeRegressor(), RandomForestRegressor(), \n",
        "          xg.XGBRFRegressor(), lgbm.LGBMRegressor(), GradientBoostingRegressor(), CatBoostRegressor(verbose=False)]\n",
        "for model in models:\n",
        "    scoring = 'neg_mean_absolute_error'\n",
        "    mae = cross_val_score(model, features, target, cv=5,scoring=scoring)\n",
        "    score = mae.max()\n",
        "    final_scores = score*(-1)\n",
        "    print(type(model).__name__)\n",
        "    print(\"    MAE\", (round(final_scores, 2)))\n",
        "    print()"
      ]
    },
    {
      "cell_type": "code",
      "execution_count": null,
      "id": "d71dbc21",
      "metadata": {
        "id": "d71dbc21"
      },
      "outputs": [],
      "source": [
        "model_catboost = CatBoostRegressor(verbose=False)\n",
        "predictions_catboost = cross_val_predict(model_catboost, features, target, cv=5)"
      ]
    },
    {
      "cell_type": "code",
      "execution_count": null,
      "id": "0545d4e7",
      "metadata": {
        "id": "0545d4e7",
        "outputId": "f134c4e7-a845-4238-bac9-552402f03757"
      },
      "outputs": [
        {
          "data": {
            "text/plain": [
              "Text(0.5, 1.0, 'Permutation Importance')"
            ]
          },
          "execution_count": 67,
          "metadata": {},
          "output_type": "execute_result"
        },
        {
          "data": {
            "image/png": "[encoded data removed]",
            "text/plain": [
              "<Figure size 864x432 with 1 Axes>"
            ]
          },
          "metadata": {
            "needs_background": "light"
          },
          "output_type": "display_data"
        }
      ],
      "source": [
        "model_catboost.fit(features, target)\n",
        "perm_importance = permutation_importance(model_catboost, features, target, n_repeats=10, random_state=1066)\n",
        "sorted_idx = perm_importance.importances_mean.argsort()\n",
        "fig = plt.figure(figsize=(12, 6))\n",
        "plt.barh(range(len(sorted_idx)), perm_importance.importances_mean[sorted_idx], align='center')\n",
        "plt.yticks(range(len(sorted_idx)), np.array(features.columns)[sorted_idx])\n",
        "plt.title('Permutation Importance')\n"
      ]
    },
    {
      "cell_type": "markdown",
      "id": "f04e8bba",
      "metadata": {
        "id": "f04e8bba"
      },
      "source": [
        "Как видно из графика, очень большое влияние у начальной температуры и суммарного времени нагрева электродами."
      ]
    },
    {
      "cell_type": "code",
      "execution_count": null,
      "id": "f83575e9",
      "metadata": {
        "id": "f83575e9"
      },
      "outputs": [],
      "source": [
        "#добавим столбцы с предсказаниями лучшей модели\n",
        "dfs['catboost'] = predictions_catboost"
      ]
    },
    {
      "cell_type": "code",
      "execution_count": null,
      "id": "71a4f82c",
      "metadata": {
        "id": "71a4f82c"
      },
      "outputs": [],
      "source": [
        "#сделаем новую таблицу\n",
        "df_final = dfs[['data_temp_last', 'catboost']]"
      ]
    },
    {
      "cell_type": "code",
      "execution_count": null,
      "id": "2322e664",
      "metadata": {
        "id": "2322e664",
        "outputId": "75356400-aecc-4a62-8e88-10c4e9e903de"
      },
      "outputs": [
        {
          "data": {
            "text/html": [
              "<div>\n",
              "<style scoped>\n",
              "    .dataframe tbody tr th:only-of-type {\n",
              "        vertical-align: middle;\n",
              "    }\n",
              "\n",
              "    .dataframe tbody tr th {\n",
              "        vertical-align: top;\n",
              "    }\n",
              "\n",
              "    .dataframe thead th {\n",
              "        text-align: right;\n",
              "    }\n",
              "</style>\n",
              "<table border=\"1\" class=\"dataframe\">\n",
              "  <thead>\n",
              "    <tr style=\"text-align: right;\">\n",
              "      <th></th>\n",
              "      <th>data_temp_last</th>\n",
              "      <th>catboost</th>\n",
              "    </tr>\n",
              "  </thead>\n",
              "  <tbody>\n",
              "    <tr>\n",
              "      <th>1</th>\n",
              "      <td>1602.0</td>\n",
              "      <td>1596.343304</td>\n",
              "    </tr>\n",
              "    <tr>\n",
              "      <th>4</th>\n",
              "      <td>1602.0</td>\n",
              "      <td>1594.097808</td>\n",
              "    </tr>\n",
              "    <tr>\n",
              "      <th>5</th>\n",
              "      <td>1596.0</td>\n",
              "      <td>1585.974242</td>\n",
              "    </tr>\n",
              "    <tr>\n",
              "      <th>6</th>\n",
              "      <td>1599.0</td>\n",
              "      <td>1595.128960</td>\n",
              "    </tr>\n",
              "    <tr>\n",
              "      <th>7</th>\n",
              "      <td>1598.0</td>\n",
              "      <td>1593.188785</td>\n",
              "    </tr>\n",
              "    <tr>\n",
              "      <th>...</th>\n",
              "      <td>...</td>\n",
              "      <td>...</td>\n",
              "    </tr>\n",
              "    <tr>\n",
              "      <th>2340</th>\n",
              "      <td>1591.0</td>\n",
              "      <td>1593.352259</td>\n",
              "    </tr>\n",
              "    <tr>\n",
              "      <th>2341</th>\n",
              "      <td>1591.0</td>\n",
              "      <td>1588.471215</td>\n",
              "    </tr>\n",
              "    <tr>\n",
              "      <th>2342</th>\n",
              "      <td>1589.0</td>\n",
              "      <td>1590.541379</td>\n",
              "    </tr>\n",
              "    <tr>\n",
              "      <th>2343</th>\n",
              "      <td>1594.0</td>\n",
              "      <td>1598.218911</td>\n",
              "    </tr>\n",
              "    <tr>\n",
              "      <th>2344</th>\n",
              "      <td>1603.0</td>\n",
              "      <td>1595.240875</td>\n",
              "    </tr>\n",
              "  </tbody>\n",
              "</table>\n",
              "<p>2001 rows × 2 columns</p>\n",
              "</div>"
            ],
            "text/plain": [
              "      data_temp_last     catboost\n",
              "1             1602.0  1596.343304\n",
              "4             1602.0  1594.097808\n",
              "5             1596.0  1585.974242\n",
              "6             1599.0  1595.128960\n",
              "7             1598.0  1593.188785\n",
              "...              ...          ...\n",
              "2340          1591.0  1593.352259\n",
              "2341          1591.0  1588.471215\n",
              "2342          1589.0  1590.541379\n",
              "2343          1594.0  1598.218911\n",
              "2344          1603.0  1595.240875\n",
              "\n",
              "[2001 rows x 2 columns]"
            ]
          },
          "metadata": {},
          "output_type": "display_data"
        }
      ],
      "source": [
        "display(df_final)"
      ]
    },
    {
      "cell_type": "code",
      "execution_count": null,
      "id": "88c53ef3",
      "metadata": {
        "id": "88c53ef3",
        "outputId": "e41a149f-3671-48e8-f9dc-fb42fd699aca"
      },
      "outputs": [
        {
          "data": {
            "image/png": "[encoded data removed]",
            "text/plain": [
              "<Figure size 1152x288 with 1 Axes>"
            ]
          },
          "metadata": {
            "needs_background": "light"
          },
          "output_type": "display_data"
        }
      ],
      "source": [
        "#посмотрим \n",
        "df_final[['data_temp_last', 'catboost']].plot(figsize=(16,4))\n",
        "plt.show()"
      ]
    },
    {
      "cell_type": "markdown",
      "id": "7da08353",
      "metadata": {
        "id": "7da08353"
      },
      "source": [
        "# Вывод\n",
        "\n",
        "1. Были изучены имеющиеся данные, произведен их анализ, обработка, удалены выбивающиеся значения и пропуски; выбраны те данные, которые помогут решить поставленную задачу, т.е. предсказать температуру стали.\n",
        "\n",
        "\n",
        "2. Данные собраны в единую таблицу. Проведена обработка методом IQR в отношении целевого признака - последней замеренной температуры. *Справочно: если не проводить анализ на выбросы и не удалять выбивающиеся значения вообще, оставив только метод IQR, все модели показывают результат меньше 6, кроме DecisionTreeRegressor, но больше 5.19).*\n",
        "\n",
        "\n",
        "3. Данные подготовлены для проведения кросс-валидации, определен целевой признак, проведено масштабирование.\n",
        "\n",
        "\n",
        "4. Обучены и проверены кросс-валидацией несколько моделей регресии (LinearRegression, DecisionTreeRegressor, RandomForestRegressor, XGBRFRegressor, LGBMRegressor, GradientBoostingRegressor, CatBoostRegressor).\n",
        "\n",
        "\n",
        "5. Среднюю абсолютную ошибку меньше 6 показывают все модели, кроме DecisionTreeRegressor.\n",
        "\n",
        "\n",
        "6. Выбран наилучший результат для визуализации (CatBoostRegressor)."
      ]
    }
  ],
  "metadata": {
    "ExecuteTimeLog": [
      {
        "duration": 1625,
        "start_time": "2022-07-03T08:30:34.291Z"
      },
      {
        "duration": 127,
        "start_time": "2022-07-03T08:31:03.150Z"
      },
      {
        "duration": 15,
        "start_time": "2022-07-03T08:31:28.321Z"
      },
      {
        "duration": 13,
        "start_time": "2022-07-03T08:31:41.402Z"
      },
      {
        "duration": 13,
        "start_time": "2022-07-03T08:33:08.731Z"
      },
      {
        "duration": 20,
        "start_time": "2022-07-03T08:33:25.499Z"
      },
      {
        "duration": 15,
        "start_time": "2022-07-03T08:33:39.095Z"
      },
      {
        "duration": 14,
        "start_time": "2022-07-03T08:33:53.742Z"
      },
      {
        "duration": 10,
        "start_time": "2022-07-03T08:34:07.851Z"
      },
      {
        "duration": 10,
        "start_time": "2022-07-03T08:34:21.027Z"
      },
      {
        "duration": 12,
        "start_time": "2022-07-03T08:34:33.342Z"
      },
      {
        "duration": 15,
        "start_time": "2022-07-03T08:34:46.724Z"
      },
      {
        "duration": 11,
        "start_time": "2022-07-03T08:35:07.755Z"
      },
      {
        "duration": 11,
        "start_time": "2022-07-03T08:35:24.491Z"
      },
      {
        "duration": 15,
        "start_time": "2022-07-03T08:35:36.904Z"
      },
      {
        "duration": 11,
        "start_time": "2022-07-03T08:35:56.943Z"
      },
      {
        "duration": 17,
        "start_time": "2022-07-03T08:38:21.524Z"
      },
      {
        "duration": 5,
        "start_time": "2022-07-03T08:43:37.951Z"
      },
      {
        "duration": 334,
        "start_time": "2022-07-03T08:43:54.051Z"
      },
      {
        "duration": 3,
        "start_time": "2022-07-03T08:44:22.312Z"
      },
      {
        "duration": 4,
        "start_time": "2022-07-03T08:44:53.915Z"
      },
      {
        "duration": 16,
        "start_time": "2022-07-03T08:45:14.116Z"
      },
      {
        "duration": 9,
        "start_time": "2022-07-03T08:45:37.412Z"
      },
      {
        "duration": 4,
        "start_time": "2022-07-03T08:46:12.783Z"
      },
      {
        "duration": 9,
        "start_time": "2022-07-03T08:47:21.522Z"
      },
      {
        "duration": 107,
        "start_time": "2022-07-03T08:48:05.544Z"
      },
      {
        "duration": 10,
        "start_time": "2022-07-03T08:48:57.941Z"
      },
      {
        "duration": 1309,
        "start_time": "2022-07-03T08:51:40.213Z"
      },
      {
        "duration": 28,
        "start_time": "2022-07-03T08:52:47.041Z"
      },
      {
        "duration": 3,
        "start_time": "2022-07-03T08:53:06.721Z"
      },
      {
        "duration": 4,
        "start_time": "2022-07-03T08:53:49.291Z"
      },
      {
        "duration": 8,
        "start_time": "2022-07-03T08:54:25.648Z"
      },
      {
        "duration": 11,
        "start_time": "2022-07-03T08:54:40.442Z"
      },
      {
        "duration": 18,
        "start_time": "2022-07-03T08:56:17.199Z"
      },
      {
        "duration": 18,
        "start_time": "2022-07-03T08:56:55.456Z"
      },
      {
        "duration": 3,
        "start_time": "2022-07-03T08:57:27.280Z"
      },
      {
        "duration": 7,
        "start_time": "2022-07-03T08:57:50.186Z"
      },
      {
        "duration": 100,
        "start_time": "2022-07-03T08:59:05.892Z"
      },
      {
        "duration": 4,
        "start_time": "2022-07-03T09:00:04.190Z"
      },
      {
        "duration": 3,
        "start_time": "2022-07-03T09:00:53.015Z"
      },
      {
        "duration": 7,
        "start_time": "2022-07-03T09:02:58.054Z"
      },
      {
        "duration": 3,
        "start_time": "2022-07-03T09:03:12.194Z"
      },
      {
        "duration": 6,
        "start_time": "2022-07-03T09:04:07.745Z"
      },
      {
        "duration": 4,
        "start_time": "2022-07-03T09:04:18.938Z"
      },
      {
        "duration": 92,
        "start_time": "2022-07-03T09:04:49.769Z"
      },
      {
        "duration": 4,
        "start_time": "2022-07-03T09:05:41.794Z"
      },
      {
        "duration": 112,
        "start_time": "2022-07-03T09:06:02.029Z"
      },
      {
        "duration": 7,
        "start_time": "2022-07-03T09:06:39.189Z"
      },
      {
        "duration": 9,
        "start_time": "2022-07-03T09:07:13.901Z"
      },
      {
        "duration": 8,
        "start_time": "2022-07-03T09:07:28.302Z"
      },
      {
        "duration": 8,
        "start_time": "2022-07-03T09:07:40.978Z"
      },
      {
        "duration": 7,
        "start_time": "2022-07-03T09:08:17.899Z"
      },
      {
        "duration": 13,
        "start_time": "2022-07-03T09:08:40.048Z"
      },
      {
        "duration": 5,
        "start_time": "2022-07-03T09:09:31.923Z"
      },
      {
        "duration": 10,
        "start_time": "2022-07-03T09:09:45.919Z"
      },
      {
        "duration": 128,
        "start_time": "2022-07-03T09:10:03.877Z"
      },
      {
        "duration": 52,
        "start_time": "2022-07-03T09:10:48.152Z"
      },
      {
        "duration": 4,
        "start_time": "2022-07-03T09:20:06.005Z"
      },
      {
        "duration": 13,
        "start_time": "2022-07-03T09:20:22.583Z"
      },
      {
        "duration": 896,
        "start_time": "2022-07-03T09:20:58.188Z"
      },
      {
        "duration": 4,
        "start_time": "2022-07-03T09:23:21.006Z"
      },
      {
        "duration": 15,
        "start_time": "2022-07-03T09:23:49.975Z"
      },
      {
        "duration": 2147522,
        "start_time": "2022-07-03T09:24:22.398Z"
      },
      {
        "duration": 1600768,
        "start_time": "2022-07-03T10:00:58.991Z"
      },
      {
        "duration": 5,
        "start_time": "2022-07-03T10:28:39.292Z"
      },
      {
        "duration": 7,
        "start_time": "2022-07-03T10:29:10.155Z"
      },
      {
        "duration": 29,
        "start_time": "2022-07-03T10:29:19.855Z"
      },
      {
        "duration": 289,
        "start_time": "2022-07-03T10:29:59.608Z"
      },
      {
        "duration": 273,
        "start_time": "2022-07-03T10:30:21.198Z"
      },
      {
        "duration": 2340,
        "start_time": "2022-07-03T10:40:26.192Z"
      },
      {
        "duration": 325,
        "start_time": "2022-07-03T10:40:28.535Z"
      },
      {
        "duration": 25,
        "start_time": "2022-07-03T10:40:28.861Z"
      },
      {
        "duration": 35,
        "start_time": "2022-07-03T10:40:28.888Z"
      },
      {
        "duration": 54,
        "start_time": "2022-07-03T10:40:28.926Z"
      },
      {
        "duration": 38,
        "start_time": "2022-07-03T10:40:28.984Z"
      },
      {
        "duration": 87,
        "start_time": "2022-07-03T10:40:29.025Z"
      },
      {
        "duration": 21,
        "start_time": "2022-07-03T10:40:29.114Z"
      },
      {
        "duration": 77,
        "start_time": "2022-07-03T10:40:29.136Z"
      },
      {
        "duration": 9,
        "start_time": "2022-07-03T10:40:29.215Z"
      },
      {
        "duration": 70,
        "start_time": "2022-07-03T10:40:29.228Z"
      },
      {
        "duration": 20,
        "start_time": "2022-07-03T10:40:29.300Z"
      },
      {
        "duration": 85,
        "start_time": "2022-07-03T10:40:29.322Z"
      },
      {
        "duration": 23,
        "start_time": "2022-07-03T10:40:29.411Z"
      },
      {
        "duration": 88,
        "start_time": "2022-07-03T10:40:29.436Z"
      },
      {
        "duration": 98,
        "start_time": "2022-07-03T10:40:29.527Z"
      },
      {
        "duration": 79,
        "start_time": "2022-07-03T10:40:29.636Z"
      },
      {
        "duration": 6,
        "start_time": "2022-07-03T10:40:29.717Z"
      },
      {
        "duration": 497,
        "start_time": "2022-07-03T10:40:29.724Z"
      },
      {
        "duration": 8,
        "start_time": "2022-07-03T10:40:30.223Z"
      },
      {
        "duration": 75,
        "start_time": "2022-07-03T10:40:30.235Z"
      },
      {
        "duration": 95,
        "start_time": "2022-07-03T10:40:30.312Z"
      },
      {
        "duration": 99,
        "start_time": "2022-07-03T10:40:30.409Z"
      },
      {
        "duration": 84,
        "start_time": "2022-07-03T10:40:30.510Z"
      },
      {
        "duration": 25,
        "start_time": "2022-07-03T10:40:30.598Z"
      },
      {
        "duration": 192,
        "start_time": "2022-07-03T10:40:30.625Z"
      },
      {
        "duration": 7,
        "start_time": "2022-07-03T10:40:30.819Z"
      },
      {
        "duration": 2051,
        "start_time": "2022-07-03T10:40:30.828Z"
      },
      {
        "duration": 61,
        "start_time": "2022-07-03T10:40:32.885Z"
      },
      {
        "duration": 40,
        "start_time": "2022-07-03T10:40:32.954Z"
      },
      {
        "duration": 32,
        "start_time": "2022-07-03T10:40:33.001Z"
      },
      {
        "duration": 68,
        "start_time": "2022-07-03T10:40:33.041Z"
      },
      {
        "duration": 161,
        "start_time": "2022-07-03T10:40:33.116Z"
      },
      {
        "duration": 56,
        "start_time": "2022-07-03T10:40:33.282Z"
      },
      {
        "duration": 100,
        "start_time": "2022-07-03T10:40:33.339Z"
      },
      {
        "duration": 54,
        "start_time": "2022-07-03T10:40:33.441Z"
      },
      {
        "duration": 73,
        "start_time": "2022-07-03T10:40:33.497Z"
      },
      {
        "duration": 166,
        "start_time": "2022-07-03T10:40:33.572Z"
      },
      {
        "duration": 15,
        "start_time": "2022-07-03T10:40:33.740Z"
      },
      {
        "duration": 13,
        "start_time": "2022-07-03T10:40:33.764Z"
      },
      {
        "duration": 35,
        "start_time": "2022-07-03T10:40:33.786Z"
      },
      {
        "duration": 37,
        "start_time": "2022-07-03T10:40:33.823Z"
      },
      {
        "duration": 218,
        "start_time": "2022-07-03T10:40:33.865Z"
      },
      {
        "duration": 8,
        "start_time": "2022-07-03T10:40:34.089Z"
      },
      {
        "duration": 118,
        "start_time": "2022-07-03T10:40:34.102Z"
      },
      {
        "duration": 9,
        "start_time": "2022-07-03T10:40:34.222Z"
      },
      {
        "duration": 203,
        "start_time": "2022-07-03T10:40:34.235Z"
      },
      {
        "duration": 4,
        "start_time": "2022-07-03T10:40:34.441Z"
      },
      {
        "duration": 64,
        "start_time": "2022-07-03T10:40:34.446Z"
      },
      {
        "duration": 10,
        "start_time": "2022-07-03T10:40:34.512Z"
      },
      {
        "duration": 84,
        "start_time": "2022-07-03T10:40:34.523Z"
      },
      {
        "duration": 18,
        "start_time": "2022-07-03T10:40:34.609Z"
      },
      {
        "duration": 72,
        "start_time": "2022-07-03T10:40:34.640Z"
      },
      {
        "duration": 3,
        "start_time": "2022-07-03T10:40:34.714Z"
      },
      {
        "duration": 120,
        "start_time": "2022-07-03T10:40:34.719Z"
      },
      {
        "duration": 27,
        "start_time": "2022-07-03T10:40:34.840Z"
      },
      {
        "duration": 64,
        "start_time": "2022-07-03T10:40:34.874Z"
      },
      {
        "duration": 9,
        "start_time": "2022-07-03T10:40:34.939Z"
      },
      {
        "duration": 70,
        "start_time": "2022-07-03T10:40:34.950Z"
      },
      {
        "duration": 1189,
        "start_time": "2022-07-03T10:40:35.022Z"
      },
      {
        "duration": 7,
        "start_time": "2022-07-03T10:40:36.213Z"
      },
      {
        "duration": 177,
        "start_time": "2022-07-03T10:40:36.222Z"
      },
      {
        "duration": 2186608,
        "start_time": "2022-07-03T10:40:36.413Z"
      },
      {
        "duration": 1581691,
        "start_time": "2022-07-03T11:17:03.023Z"
      },
      {
        "duration": 18,
        "start_time": "2022-07-03T11:43:24.727Z"
      },
      {
        "duration": 50,
        "start_time": "2022-07-03T11:43:24.751Z"
      },
      {
        "duration": 22,
        "start_time": "2022-07-03T11:43:24.803Z"
      },
      {
        "duration": 440,
        "start_time": "2022-07-03T11:43:24.832Z"
      },
      {
        "duration": 314,
        "start_time": "2022-07-03T11:43:25.279Z"
      },
      {
        "duration": 1811,
        "start_time": "2022-07-03T11:50:05.210Z"
      },
      {
        "duration": 252,
        "start_time": "2022-07-03T11:50:07.024Z"
      },
      {
        "duration": 19,
        "start_time": "2022-07-03T11:50:07.280Z"
      },
      {
        "duration": 17,
        "start_time": "2022-07-03T11:50:07.300Z"
      },
      {
        "duration": 27,
        "start_time": "2022-07-03T11:50:07.320Z"
      },
      {
        "duration": 72,
        "start_time": "2022-07-03T11:50:07.348Z"
      },
      {
        "duration": 79,
        "start_time": "2022-07-03T11:50:07.422Z"
      },
      {
        "duration": 18,
        "start_time": "2022-07-03T11:50:07.504Z"
      },
      {
        "duration": 63,
        "start_time": "2022-07-03T11:50:07.524Z"
      },
      {
        "duration": 19,
        "start_time": "2022-07-03T11:50:07.592Z"
      },
      {
        "duration": 39,
        "start_time": "2022-07-03T11:50:07.613Z"
      },
      {
        "duration": 45,
        "start_time": "2022-07-03T11:50:07.659Z"
      },
      {
        "duration": 17,
        "start_time": "2022-07-03T11:50:07.707Z"
      },
      {
        "duration": 48,
        "start_time": "2022-07-03T11:50:07.728Z"
      },
      {
        "duration": 44,
        "start_time": "2022-07-03T11:50:07.781Z"
      },
      {
        "duration": 55,
        "start_time": "2022-07-03T11:50:07.833Z"
      },
      {
        "duration": 25,
        "start_time": "2022-07-03T11:50:07.890Z"
      },
      {
        "duration": 6,
        "start_time": "2022-07-03T11:50:07.918Z"
      },
      {
        "duration": 472,
        "start_time": "2022-07-03T11:50:07.925Z"
      },
      {
        "duration": 4,
        "start_time": "2022-07-03T11:50:08.399Z"
      },
      {
        "duration": 8,
        "start_time": "2022-07-03T11:50:08.404Z"
      },
      {
        "duration": 81,
        "start_time": "2022-07-03T11:50:08.413Z"
      },
      {
        "duration": 9,
        "start_time": "2022-07-03T11:50:08.496Z"
      },
      {
        "duration": 3,
        "start_time": "2022-07-03T11:50:08.508Z"
      },
      {
        "duration": 11,
        "start_time": "2022-07-03T11:50:08.512Z"
      },
      {
        "duration": 227,
        "start_time": "2022-07-03T11:50:08.525Z"
      },
      {
        "duration": 25,
        "start_time": "2022-07-03T11:50:08.754Z"
      },
      {
        "duration": 1807,
        "start_time": "2022-07-03T11:50:08.781Z"
      },
      {
        "duration": 39,
        "start_time": "2022-07-03T11:50:10.590Z"
      },
      {
        "duration": 9,
        "start_time": "2022-07-03T11:50:10.644Z"
      },
      {
        "duration": 47,
        "start_time": "2022-07-03T11:50:10.654Z"
      },
      {
        "duration": 19,
        "start_time": "2022-07-03T11:50:10.702Z"
      },
      {
        "duration": 26,
        "start_time": "2022-07-03T11:50:10.723Z"
      },
      {
        "duration": 58,
        "start_time": "2022-07-03T11:50:10.751Z"
      },
      {
        "duration": 20,
        "start_time": "2022-07-03T11:50:10.811Z"
      },
      {
        "duration": 3,
        "start_time": "2022-07-03T11:50:10.833Z"
      },
      {
        "duration": 17,
        "start_time": "2022-07-03T11:50:10.839Z"
      },
      {
        "duration": 159,
        "start_time": "2022-07-03T11:50:10.858Z"
      },
      {
        "duration": 5,
        "start_time": "2022-07-03T11:50:11.019Z"
      },
      {
        "duration": 69,
        "start_time": "2022-07-03T11:50:11.026Z"
      },
      {
        "duration": 9,
        "start_time": "2022-07-03T11:50:11.099Z"
      },
      {
        "duration": 7,
        "start_time": "2022-07-03T11:50:11.110Z"
      },
      {
        "duration": 162,
        "start_time": "2022-07-03T11:50:11.119Z"
      },
      {
        "duration": 7,
        "start_time": "2022-07-03T11:50:11.285Z"
      },
      {
        "duration": 11,
        "start_time": "2022-07-03T11:50:11.294Z"
      },
      {
        "duration": 3,
        "start_time": "2022-07-03T11:50:11.308Z"
      },
      {
        "duration": 124,
        "start_time": "2022-07-03T11:50:11.313Z"
      },
      {
        "duration": 18,
        "start_time": "2022-07-03T11:50:11.439Z"
      },
      {
        "duration": 48,
        "start_time": "2022-07-03T11:50:11.463Z"
      },
      {
        "duration": 14,
        "start_time": "2022-07-03T11:50:11.513Z"
      },
      {
        "duration": 72,
        "start_time": "2022-07-03T11:50:11.532Z"
      },
      {
        "duration": 21,
        "start_time": "2022-07-03T11:50:11.609Z"
      },
      {
        "duration": 74,
        "start_time": "2022-07-03T11:50:11.632Z"
      },
      {
        "duration": 10,
        "start_time": "2022-07-03T11:50:11.709Z"
      },
      {
        "duration": 184,
        "start_time": "2022-07-03T11:50:11.722Z"
      },
      {
        "duration": 32,
        "start_time": "2022-07-03T11:50:11.908Z"
      },
      {
        "duration": 88,
        "start_time": "2022-07-03T11:50:11.943Z"
      },
      {
        "duration": 4,
        "start_time": "2022-07-03T11:50:12.034Z"
      },
      {
        "duration": 20,
        "start_time": "2022-07-03T11:50:12.040Z"
      },
      {
        "duration": 1006,
        "start_time": "2022-07-03T11:50:12.062Z"
      },
      {
        "duration": 7,
        "start_time": "2022-07-03T11:50:13.069Z"
      },
      {
        "duration": 31,
        "start_time": "2022-07-03T11:50:13.082Z"
      },
      {
        "duration": 2364072,
        "start_time": "2022-07-03T11:50:13.115Z"
      },
      {
        "duration": 1671932,
        "start_time": "2022-07-03T12:29:37.204Z"
      },
      {
        "duration": 9,
        "start_time": "2022-07-03T12:57:29.144Z"
      },
      {
        "duration": 17,
        "start_time": "2022-07-03T12:57:29.159Z"
      },
      {
        "duration": 15,
        "start_time": "2022-07-03T12:57:29.178Z"
      },
      {
        "duration": 270,
        "start_time": "2022-07-03T12:57:29.195Z"
      },
      {
        "duration": 3837,
        "start_time": "2022-07-05T06:30:16.215Z"
      },
      {
        "duration": 126,
        "start_time": "2022-07-05T06:30:22.422Z"
      },
      {
        "duration": 13,
        "start_time": "2022-07-05T06:30:23.254Z"
      },
      {
        "duration": 15,
        "start_time": "2022-07-05T06:30:23.489Z"
      },
      {
        "duration": 13,
        "start_time": "2022-07-05T06:30:23.705Z"
      },
      {
        "duration": 16,
        "start_time": "2022-07-05T06:30:23.912Z"
      },
      {
        "duration": 12,
        "start_time": "2022-07-05T06:30:24.100Z"
      },
      {
        "duration": 15,
        "start_time": "2022-07-05T06:30:24.304Z"
      },
      {
        "duration": 10,
        "start_time": "2022-07-05T06:30:24.461Z"
      },
      {
        "duration": 7,
        "start_time": "2022-07-05T06:30:24.620Z"
      },
      {
        "duration": 12,
        "start_time": "2022-07-05T06:30:24.786Z"
      },
      {
        "duration": 8,
        "start_time": "2022-07-05T06:30:24.945Z"
      },
      {
        "duration": 12,
        "start_time": "2022-07-05T06:30:25.109Z"
      },
      {
        "duration": 15,
        "start_time": "2022-07-05T06:30:25.269Z"
      },
      {
        "duration": 11,
        "start_time": "2022-07-05T06:30:25.445Z"
      },
      {
        "duration": 11,
        "start_time": "2022-07-05T06:30:25.585Z"
      },
      {
        "duration": 13,
        "start_time": "2022-07-05T06:30:26.060Z"
      },
      {
        "duration": 5,
        "start_time": "2022-07-05T06:30:26.248Z"
      },
      {
        "duration": 358,
        "start_time": "2022-07-05T06:30:26.421Z"
      },
      {
        "duration": 3,
        "start_time": "2022-07-05T06:30:26.782Z"
      },
      {
        "duration": 20,
        "start_time": "2022-07-05T06:30:26.786Z"
      },
      {
        "duration": 18,
        "start_time": "2022-07-05T06:30:26.901Z"
      },
      {
        "duration": 8,
        "start_time": "2022-07-05T06:30:27.075Z"
      },
      {
        "duration": 4,
        "start_time": "2022-07-05T06:30:27.267Z"
      },
      {
        "duration": 10,
        "start_time": "2022-07-05T06:30:27.439Z"
      },
      {
        "duration": 96,
        "start_time": "2022-07-05T06:30:27.643Z"
      },
      {
        "duration": 7,
        "start_time": "2022-07-05T06:30:27.992Z"
      },
      {
        "duration": 1312,
        "start_time": "2022-07-05T06:30:28.206Z"
      },
      {
        "duration": 38,
        "start_time": "2022-07-05T06:30:29.521Z"
      },
      {
        "duration": 4,
        "start_time": "2022-07-05T06:30:29.561Z"
      },
      {
        "duration": 17,
        "start_time": "2022-07-05T06:30:29.567Z"
      },
      {
        "duration": 33,
        "start_time": "2022-07-05T06:30:29.586Z"
      },
      {
        "duration": 28,
        "start_time": "2022-07-05T06:30:29.620Z"
      },
      {
        "duration": 31,
        "start_time": "2022-07-05T06:30:29.649Z"
      },
      {
        "duration": 14,
        "start_time": "2022-07-05T06:30:29.682Z"
      },
      {
        "duration": 4,
        "start_time": "2022-07-05T06:30:30.150Z"
      },
      {
        "duration": 7,
        "start_time": "2022-07-05T06:30:30.323Z"
      },
      {
        "duration": 108,
        "start_time": "2022-07-05T06:30:30.504Z"
      },
      {
        "duration": 5,
        "start_time": "2022-07-05T06:30:30.879Z"
      },
      {
        "duration": 4,
        "start_time": "2022-07-05T06:30:31.008Z"
      },
      {
        "duration": 6,
        "start_time": "2022-07-05T06:30:31.253Z"
      },
      {
        "duration": 3,
        "start_time": "2022-07-05T06:30:31.457Z"
      },
      {
        "duration": 85,
        "start_time": "2022-07-05T06:30:31.697Z"
      },
      {
        "duration": 4,
        "start_time": "2022-07-05T06:30:32.120Z"
      },
      {
        "duration": 8,
        "start_time": "2022-07-05T06:30:32.355Z"
      },
      {
        "duration": 4,
        "start_time": "2022-07-05T06:30:32.585Z"
      },
      {
        "duration": 103,
        "start_time": "2022-07-05T06:30:32.775Z"
      },
      {
        "duration": 4,
        "start_time": "2022-07-05T06:30:33.122Z"
      },
      {
        "duration": 9,
        "start_time": "2022-07-05T06:30:33.313Z"
      },
      {
        "duration": 10,
        "start_time": "2022-07-05T06:30:33.486Z"
      },
      {
        "duration": 8,
        "start_time": "2022-07-05T06:30:33.714Z"
      },
      {
        "duration": 7,
        "start_time": "2022-07-05T06:30:33.906Z"
      },
      {
        "duration": 14,
        "start_time": "2022-07-05T06:30:34.039Z"
      },
      {
        "duration": 3,
        "start_time": "2022-07-05T06:30:34.261Z"
      },
      {
        "duration": 7,
        "start_time": "2022-07-05T06:30:34.400Z"
      },
      {
        "duration": 113,
        "start_time": "2022-07-05T06:30:34.591Z"
      },
      {
        "duration": 39,
        "start_time": "2022-07-05T06:30:34.799Z"
      },
      {
        "duration": 4,
        "start_time": "2022-07-05T06:30:34.988Z"
      },
      {
        "duration": 12,
        "start_time": "2022-07-05T06:30:35.515Z"
      },
      {
        "duration": 773,
        "start_time": "2022-07-05T06:30:36.232Z"
      },
      {
        "duration": 5,
        "start_time": "2022-07-05T06:31:17.528Z"
      },
      {
        "duration": 13,
        "start_time": "2022-07-05T06:31:20.737Z"
      },
      {
        "duration": 11,
        "start_time": "2022-07-05T06:32:51.447Z"
      },
      {
        "duration": 1762,
        "start_time": "2022-07-05T07:09:42.086Z"
      },
      {
        "duration": 565,
        "start_time": "2022-07-05T07:09:44.982Z"
      },
      {
        "duration": 14,
        "start_time": "2022-07-05T07:09:47.506Z"
      },
      {
        "duration": 14,
        "start_time": "2022-07-05T07:09:48.562Z"
      },
      {
        "duration": 12,
        "start_time": "2022-07-05T07:09:50.611Z"
      },
      {
        "duration": 17,
        "start_time": "2022-07-05T07:09:51.590Z"
      },
      {
        "duration": 13,
        "start_time": "2022-07-05T07:09:53.958Z"
      },
      {
        "duration": 20,
        "start_time": "2022-07-05T07:09:56.070Z"
      },
      {
        "duration": 14,
        "start_time": "2022-07-05T07:09:58.014Z"
      },
      {
        "duration": 7,
        "start_time": "2022-07-05T07:09:59.898Z"
      },
      {
        "duration": 15,
        "start_time": "2022-07-05T07:10:01.731Z"
      },
      {
        "duration": 9,
        "start_time": "2022-07-05T07:10:03.836Z"
      },
      {
        "duration": 12,
        "start_time": "2022-07-05T07:10:05.679Z"
      },
      {
        "duration": 12,
        "start_time": "2022-07-05T07:10:07.813Z"
      },
      {
        "duration": 13,
        "start_time": "2022-07-05T07:10:09.786Z"
      },
      {
        "duration": 11,
        "start_time": "2022-07-05T07:10:11.799Z"
      },
      {
        "duration": 12,
        "start_time": "2022-07-05T07:10:15.468Z"
      },
      {
        "duration": 6,
        "start_time": "2022-07-05T07:10:17.023Z"
      },
      {
        "duration": 350,
        "start_time": "2022-07-05T07:10:18.056Z"
      },
      {
        "duration": 4,
        "start_time": "2022-07-05T07:10:20.588Z"
      },
      {
        "duration": 4,
        "start_time": "2022-07-05T07:10:21.946Z"
      },
      {
        "duration": 13,
        "start_time": "2022-07-05T07:10:23.012Z"
      },
      {
        "duration": 8,
        "start_time": "2022-07-05T07:10:25.546Z"
      },
      {
        "duration": 3,
        "start_time": "2022-07-05T07:10:26.382Z"
      },
      {
        "duration": 7,
        "start_time": "2022-07-05T07:10:27.171Z"
      },
      {
        "duration": 105,
        "start_time": "2022-07-05T07:10:28.126Z"
      },
      {
        "duration": 7,
        "start_time": "2022-07-05T07:10:32.825Z"
      },
      {
        "duration": 1415,
        "start_time": "2022-07-05T07:10:33.688Z"
      },
      {
        "duration": 31,
        "start_time": "2022-07-05T07:10:35.839Z"
      },
      {
        "duration": 2,
        "start_time": "2022-07-05T07:10:38.169Z"
      },
      {
        "duration": 5,
        "start_time": "2022-07-05T07:10:39.355Z"
      },
      {
        "duration": 7,
        "start_time": "2022-07-05T07:10:40.308Z"
      },
      {
        "duration": 14,
        "start_time": "2022-07-05T07:10:41.440Z"
      },
      {
        "duration": 23,
        "start_time": "2022-07-05T07:10:43.094Z"
      },
      {
        "duration": 21,
        "start_time": "2022-07-05T07:10:45.661Z"
      },
      {
        "duration": 3,
        "start_time": "2022-07-05T07:10:49.160Z"
      },
      {
        "duration": 7,
        "start_time": "2022-07-05T07:10:51.221Z"
      },
      {
        "duration": 115,
        "start_time": "2022-07-05T07:10:51.893Z"
      },
      {
        "duration": 5,
        "start_time": "2022-07-05T07:10:54.759Z"
      },
      {
        "duration": 3,
        "start_time": "2022-07-05T07:10:55.881Z"
      },
      {
        "duration": 9,
        "start_time": "2022-07-05T07:10:57.781Z"
      },
      {
        "duration": 4,
        "start_time": "2022-07-05T07:10:58.943Z"
      },
      {
        "duration": 112,
        "start_time": "2022-07-05T07:10:59.579Z"
      },
      {
        "duration": 6,
        "start_time": "2022-07-05T07:11:02.853Z"
      },
      {
        "duration": 8,
        "start_time": "2022-07-05T07:11:04.093Z"
      },
      {
        "duration": 4,
        "start_time": "2022-07-05T07:11:04.883Z"
      },
      {
        "duration": 109,
        "start_time": "2022-07-05T07:11:05.603Z"
      },
      {
        "duration": 5,
        "start_time": "2022-07-05T07:11:09.593Z"
      },
      {
        "duration": 8,
        "start_time": "2022-07-05T07:11:10.354Z"
      },
      {
        "duration": 7,
        "start_time": "2022-07-05T07:11:11.292Z"
      },
      {
        "duration": 6,
        "start_time": "2022-07-05T07:11:13.215Z"
      },
      {
        "duration": 9,
        "start_time": "2022-07-05T07:11:14.405Z"
      },
      {
        "duration": 13,
        "start_time": "2022-07-05T07:11:19.195Z"
      },
      {
        "duration": 4,
        "start_time": "2022-07-05T07:11:32.955Z"
      },
      {
        "duration": 4,
        "start_time": "2022-07-05T07:11:44.383Z"
      },
      {
        "duration": 7,
        "start_time": "2022-07-05T07:11:45.268Z"
      },
      {
        "duration": 92,
        "start_time": "2022-07-05T07:11:46.659Z"
      },
      {
        "duration": 4,
        "start_time": "2022-07-05T07:12:20.023Z"
      },
      {
        "duration": 35,
        "start_time": "2022-07-05T07:12:20.755Z"
      },
      {
        "duration": 5,
        "start_time": "2022-07-05T07:12:24.197Z"
      },
      {
        "duration": 14,
        "start_time": "2022-07-05T07:12:30.751Z"
      },
      {
        "duration": 804,
        "start_time": "2022-07-05T07:12:33.578Z"
      },
      {
        "duration": 13,
        "start_time": "2022-07-05T07:12:48.549Z"
      },
      {
        "duration": 4,
        "start_time": "2022-07-05T07:12:53.096Z"
      },
      {
        "duration": 11,
        "start_time": "2022-07-05T07:12:55.564Z"
      },
      {
        "duration": 64743,
        "start_time": "2022-07-05T07:12:59.894Z"
      },
      {
        "duration": 15422,
        "start_time": "2022-07-05T07:14:49.809Z"
      },
      {
        "duration": 3,
        "start_time": "2022-07-05T07:15:09.931Z"
      },
      {
        "duration": 4,
        "start_time": "2022-07-05T07:15:11.358Z"
      },
      {
        "duration": 11,
        "start_time": "2022-07-05T07:15:12.794Z"
      },
      {
        "duration": 272,
        "start_time": "2022-07-05T07:15:20.873Z"
      },
      {
        "duration": 137,
        "start_time": "2022-07-05T07:19:19.813Z"
      },
      {
        "duration": 64,
        "start_time": "2022-07-05T08:01:20.122Z"
      },
      {
        "duration": 3,
        "start_time": "2022-07-05T08:01:27.233Z"
      },
      {
        "duration": 19,
        "start_time": "2022-07-05T08:01:52.594Z"
      },
      {
        "duration": 12,
        "start_time": "2022-07-05T08:06:01.254Z"
      },
      {
        "duration": 18,
        "start_time": "2022-07-05T08:06:34.100Z"
      },
      {
        "duration": 14,
        "start_time": "2022-07-05T08:06:48.437Z"
      },
      {
        "duration": 14,
        "start_time": "2022-07-05T08:09:17.773Z"
      },
      {
        "duration": 35,
        "start_time": "2022-07-05T08:09:41.075Z"
      },
      {
        "duration": 4223,
        "start_time": "2022-07-05T08:12:03.338Z"
      },
      {
        "duration": 1737,
        "start_time": "2022-07-05T08:19:12.465Z"
      },
      {
        "duration": 232,
        "start_time": "2022-07-05T08:19:14.204Z"
      },
      {
        "duration": 21,
        "start_time": "2022-07-05T08:19:14.438Z"
      },
      {
        "duration": 13,
        "start_time": "2022-07-05T08:19:14.462Z"
      },
      {
        "duration": 12,
        "start_time": "2022-07-05T08:19:14.477Z"
      },
      {
        "duration": 28,
        "start_time": "2022-07-05T08:19:14.491Z"
      },
      {
        "duration": 19,
        "start_time": "2022-07-05T08:19:14.522Z"
      },
      {
        "duration": 14,
        "start_time": "2022-07-05T08:19:14.543Z"
      },
      {
        "duration": 10,
        "start_time": "2022-07-05T08:19:14.559Z"
      },
      {
        "duration": 11,
        "start_time": "2022-07-05T08:19:14.572Z"
      },
      {
        "duration": 16,
        "start_time": "2022-07-05T08:19:14.599Z"
      },
      {
        "duration": 19,
        "start_time": "2022-07-05T08:19:14.617Z"
      },
      {
        "duration": 14,
        "start_time": "2022-07-05T08:19:14.638Z"
      },
      {
        "duration": 14,
        "start_time": "2022-07-05T08:19:14.653Z"
      },
      {
        "duration": 35,
        "start_time": "2022-07-05T08:19:14.669Z"
      },
      {
        "duration": 20,
        "start_time": "2022-07-05T08:19:14.716Z"
      },
      {
        "duration": 17,
        "start_time": "2022-07-05T08:19:14.737Z"
      },
      {
        "duration": 8,
        "start_time": "2022-07-05T08:19:14.756Z"
      },
      {
        "duration": 425,
        "start_time": "2022-07-05T08:19:14.766Z"
      },
      {
        "duration": 11,
        "start_time": "2022-07-05T08:19:15.193Z"
      },
      {
        "duration": 23,
        "start_time": "2022-07-05T08:19:15.207Z"
      },
      {
        "duration": 17,
        "start_time": "2022-07-05T08:19:15.232Z"
      },
      {
        "duration": 7,
        "start_time": "2022-07-05T08:19:15.250Z"
      },
      {
        "duration": 3,
        "start_time": "2022-07-05T08:19:15.259Z"
      },
      {
        "duration": 14,
        "start_time": "2022-07-05T08:19:15.263Z"
      },
      {
        "duration": 106,
        "start_time": "2022-07-05T08:19:15.279Z"
      },
      {
        "duration": 7,
        "start_time": "2022-07-05T08:19:15.386Z"
      },
      {
        "duration": 1614,
        "start_time": "2022-07-05T08:19:15.402Z"
      },
      {
        "duration": 35,
        "start_time": "2022-07-05T08:19:17.025Z"
      },
      {
        "duration": 4,
        "start_time": "2022-07-05T08:19:17.062Z"
      },
      {
        "duration": 8,
        "start_time": "2022-07-05T08:19:17.067Z"
      },
      {
        "duration": 10,
        "start_time": "2022-07-05T08:19:17.077Z"
      },
      {
        "duration": 17,
        "start_time": "2022-07-05T08:19:17.102Z"
      },
      {
        "duration": 27,
        "start_time": "2022-07-05T08:19:17.120Z"
      },
      {
        "duration": 15,
        "start_time": "2022-07-05T08:19:17.149Z"
      },
      {
        "duration": 3,
        "start_time": "2022-07-05T08:19:17.165Z"
      },
      {
        "duration": 8,
        "start_time": "2022-07-05T08:19:17.171Z"
      },
      {
        "duration": 136,
        "start_time": "2022-07-05T08:19:17.181Z"
      },
      {
        "duration": 4,
        "start_time": "2022-07-05T08:19:17.320Z"
      },
      {
        "duration": 9,
        "start_time": "2022-07-05T08:19:17.326Z"
      },
      {
        "duration": 13,
        "start_time": "2022-07-05T08:19:17.336Z"
      },
      {
        "duration": 4,
        "start_time": "2022-07-05T08:19:17.351Z"
      },
      {
        "duration": 121,
        "start_time": "2022-07-05T08:19:17.357Z"
      },
      {
        "duration": 15,
        "start_time": "2022-07-05T08:19:17.481Z"
      },
      {
        "duration": 36,
        "start_time": "2022-07-05T08:19:17.498Z"
      },
      {
        "duration": 6,
        "start_time": "2022-07-05T08:19:17.536Z"
      },
      {
        "duration": 119,
        "start_time": "2022-07-05T08:19:17.543Z"
      },
      {
        "duration": 5,
        "start_time": "2022-07-05T08:19:17.663Z"
      },
      {
        "duration": 14,
        "start_time": "2022-07-05T08:19:17.670Z"
      },
      {
        "duration": 23,
        "start_time": "2022-07-05T08:19:17.685Z"
      },
      {
        "duration": 18,
        "start_time": "2022-07-05T08:19:17.711Z"
      },
      {
        "duration": 11,
        "start_time": "2022-07-05T08:19:17.731Z"
      },
      {
        "duration": 14,
        "start_time": "2022-07-05T08:19:17.744Z"
      },
      {
        "duration": 8,
        "start_time": "2022-07-05T08:19:17.760Z"
      },
      {
        "duration": 93,
        "start_time": "2022-07-05T08:19:17.770Z"
      },
      {
        "duration": 14,
        "start_time": "2022-07-05T08:19:17.865Z"
      },
      {
        "duration": 3,
        "start_time": "2022-07-05T08:19:17.881Z"
      },
      {
        "duration": 41,
        "start_time": "2022-07-05T08:19:17.903Z"
      },
      {
        "duration": 4,
        "start_time": "2022-07-05T08:19:17.946Z"
      },
      {
        "duration": 18,
        "start_time": "2022-07-05T08:19:17.952Z"
      },
      {
        "duration": 806,
        "start_time": "2022-07-05T08:19:17.972Z"
      },
      {
        "duration": 12,
        "start_time": "2022-07-05T08:19:18.780Z"
      },
      {
        "duration": 23,
        "start_time": "2022-07-05T08:19:18.800Z"
      },
      {
        "duration": 12,
        "start_time": "2022-07-05T08:19:18.826Z"
      },
      {
        "duration": 727926,
        "start_time": "2022-07-05T08:19:18.840Z"
      },
      {
        "duration": 18499,
        "start_time": "2022-07-05T08:31:26.768Z"
      },
      {
        "duration": 4327,
        "start_time": "2022-07-05T08:31:45.268Z"
      },
      {
        "duration": 21,
        "start_time": "2022-07-05T08:31:49.598Z"
      },
      {
        "duration": 22,
        "start_time": "2022-07-05T08:31:49.626Z"
      },
      {
        "duration": 16,
        "start_time": "2022-07-05T08:31:49.650Z"
      },
      {
        "duration": 294,
        "start_time": "2022-07-05T08:31:49.668Z"
      }
    ],
    "kernelspec": {
      "display_name": "Python 3 (ipykernel)",
      "language": "python",
      "name": "python3"
    },
    "language_info": {
      "codemirror_mode": {
        "name": "ipython",
        "version": 3
      },
      "file_extension": ".py",
      "mimetype": "text/x-python",
      "name": "python",
      "nbconvert_exporter": "python",
      "pygments_lexer": "ipython3",
      "version": "3.9.5"
    },
    "toc": {
      "base_numbering": 1,
      "nav_menu": {},
      "number_sections": true,
      "sideBar": true,
      "skip_h1_title": true,
      "title_cell": "Table of Contents",
      "title_sidebar": "Contents",
      "toc_cell": false,
      "toc_position": {},
      "toc_section_display": true,
      "toc_window_display": false
    },
    "colab": {
      "name": "final.ipynb",
      "provenance": []
    }
  },
  "nbformat": 4,
  "nbformat_minor": 5
}